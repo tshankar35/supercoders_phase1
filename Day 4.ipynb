{
 "cells": [
  {
   "cell_type": "markdown",
   "id": "f83effe7",
   "metadata": {},
   "source": [
    "# Day 4"
   ]
  },
  {
   "cell_type": "markdown",
   "id": "bdebeab2",
   "metadata": {},
   "source": [
    "####  Write a python function, nearest_palindrome() which accepts a number and returns the nearest palindrome greater than the given number\n",
    "\n",
    "> Input\n",
    ">> 999\n",
    "\n",
    "> Output\n",
    ">> 101\n",
    "\n",
    "> Input\n",
    ">> 1221\n",
    "\n",
    "> Output\n",
    ">> 1331"
   ]
  },
  {
   "cell_type": "code",
   "execution_count": 1,
   "id": "384cebb1",
   "metadata": {},
   "outputs": [],
   "source": [
    "def nearest_palindrome(n):\n",
    "    flag = False\n",
    "    while flag!=True:\n",
    "        n = n+1\n",
    "        if str(n)[::-1] == str(n):\n",
    "            print(\"Next Palindrome {}\".format(n))\n",
    "            flag=True"
   ]
  },
  {
   "cell_type": "code",
   "execution_count": 2,
   "id": "e16ce39b",
   "metadata": {},
   "outputs": [
    {
     "name": "stdout",
     "output_type": "stream",
     "text": [
      "Next Palindrome 1331\n"
     ]
    }
   ],
   "source": [
    "nearest_palindrome(1221)"
   ]
  },
  {
   "cell_type": "markdown",
   "id": "3b84f6ca",
   "metadata": {},
   "source": [
    "#### Care hospital wants to know the medical speciality visited by the maximum number of patients. Assume that the patient id of the patient along with \n",
    "#### The details of the medical specialities are stored in a dictionary as follows {\"P\":\"Pediatrics\",\"O\":\"Orthopedics\",\"E\":\"ENT\"}\n",
    "\n",
    "#### Write a function to find the medical speciality visited by the maximum number of patients which is visited by maximum number of patients\n",
    "\n",
    "#### Perform case sensitive string comparision where necessary\n",
    "\n",
    "\n",
    "#### > Input\n",
    "#### >>> [101,P,102,O,303,P,305,P]\n",
    "#### > Output\n",
    "##### >>>  Pediatrics"
   ]
  },
  {
   "cell_type": "code",
   "execution_count": 3,
   "id": "7918694b",
   "metadata": {},
   "outputs": [],
   "source": [
    "def speciality(l,d):\n",
    "    c = {}\n",
    "    for i in range(1,len(l),2):\n",
    "        c[l[i]] = l.count(l[i])\n",
    "    print(d[max(c)])"
   ]
  },
  {
   "cell_type": "code",
   "execution_count": 4,
   "id": "8a87d857",
   "metadata": {},
   "outputs": [
    {
     "name": "stdout",
     "output_type": "stream",
     "text": [
      "Pediatrics\n"
     ]
    }
   ],
   "source": [
    "d= {\"P\":\"Pediatrics\",\"O\":\"Orthopedics\",\"E\":\"ENT\"}\n",
    "l =  [101,'P',102,'O',303,'P',305,'P']\n",
    "speciality(l,d)"
   ]
  },
  {
   "cell_type": "markdown",
   "id": "3a3fe328",
   "metadata": {},
   "source": [
    "#### Write a python program to display all the common characters between 2 strings. Return -1 if there are no matching characters"
   ]
  },
  {
   "cell_type": "code",
   "execution_count": 5,
   "id": "4bd8830f",
   "metadata": {},
   "outputs": [],
   "source": [
    "def commchar(s,s1):\n",
    "    flag=0\n",
    "    s =s.replace(' ','')\n",
    "    for ch in s:\n",
    "        if ch in s1:\n",
    "            print(ch,end=\"\")\n",
    "            flag=1\n",
    "    if flag==0:\n",
    "        print(\"-1\")"
   ]
  },
  {
   "cell_type": "code",
   "execution_count": 6,
   "id": "54bdd238",
   "metadata": {},
   "outputs": [
    {
     "name": "stdout",
     "output_type": "stream",
     "text": [
      "lieyon"
     ]
    }
   ],
   "source": [
    "s = \"I like Python\"\n",
    "s1 = \"Java is a very popular language\"\n",
    "commchar(s,s1)"
   ]
  },
  {
   "cell_type": "code",
   "execution_count": 7,
   "id": "f1526b26",
   "metadata": {},
   "outputs": [
    {
     "data": {
      "text/plain": [
       "'lieyon'"
      ]
     },
     "execution_count": 7,
     "metadata": {},
     "output_type": "execute_result"
    }
   ],
   "source": [
    "''.join([x for x in s if x in s1 and x!=' '])"
   ]
  },
  {
   "cell_type": "markdown",
   "id": "e44a65ff",
   "metadata": {},
   "source": [
    "# OOPS in Python\n",
    "\n",
    "## Answer the following questions with respect to the following snippet"
   ]
  },
  {
   "cell_type": "code",
   "execution_count": 8,
   "id": "3551f025",
   "metadata": {},
   "outputs": [],
   "source": [
    "class Employee:\n",
    "    def __init__(self):\n",
    "        self.employee_id= None\n",
    "    def check_eligibility(self):\n",
    "        if self.employee_id >= 9000 and self.employee_id <= 10000:\n",
    "            print(\"The employee is eligible for special benefits\")\n",
    "        else:\n",
    "            print(\"The Employee is not eligible for special benefits\")"
   ]
  },
  {
   "cell_type": "code",
   "execution_count": 9,
   "id": "789da78b",
   "metadata": {},
   "outputs": [
    {
     "name": "stdout",
     "output_type": "stream",
     "text": [
      "The employee is eligible for special benefits\n"
     ]
    }
   ],
   "source": [
    "emp1 = Employee()\n",
    "emp1.employee_id = 10000\n",
    "emp1.check_eligibility()"
   ]
  },
  {
   "cell_type": "code",
   "execution_count": 10,
   "id": "8e5a668e",
   "metadata": {},
   "outputs": [
    {
     "name": "stdout",
     "output_type": "stream",
     "text": [
      "The Employee is not eligible for special benefits\n"
     ]
    }
   ],
   "source": [
    "emp2 = Employee()\n",
    "emp2.employee_id = 8000\n",
    "emp2.check_eligibility()"
   ]
  },
  {
   "cell_type": "markdown",
   "id": "74aa210b",
   "metadata": {},
   "source": [
    "#### Questions\n",
    "1. There will be only one employee_id variable created for both the objects\n",
    "2. There will be two employee_id variables created\n",
    "3. "
   ]
  },
  {
   "cell_type": "markdown",
   "id": "fac9040a",
   "metadata": {},
   "source": [
    "### Find the Output of given code"
   ]
  },
  {
   "cell_type": "code",
   "execution_count": 11,
   "id": "f3471935",
   "metadata": {},
   "outputs": [],
   "source": [
    "class Example:\n",
    "    def __init__(self):\n",
    "        self.num=0\n",
    "    def set_num(self,num):\n",
    "        self.num=num\n",
    "    def get_num(self):\n",
    "        return self.num"
   ]
  },
  {
   "cell_type": "code",
   "execution_count": 12,
   "id": "a7da50fe",
   "metadata": {},
   "outputs": [
    {
     "name": "stdout",
     "output_type": "stream",
     "text": [
      "10\n",
      "15\n"
     ]
    }
   ],
   "source": [
    "ob = Example(10)\n",
    "print(ob.get_num())\n",
    "ob.set_num(15)\n",
    "print(ob.get_num())"
   ]
  },
  {
   "cell_type": "markdown",
   "id": "0f3c412a",
   "metadata": {},
   "source": [
    "### Write a python function, find_correct() which accepts a dictionary and returns a list per rules mentioned below\n",
    "\n",
    "1. Correct if it is an exact match\n",
    "2. Almost Correct if no more than 2 letters are wrong\n",
    "3. Wrong if more than 2 letters are wrong"
   ]
  },
  {
   "cell_type": "code",
   "execution_count": 13,
   "id": "a8f69136",
   "metadata": {},
   "outputs": [],
   "source": [
    "def find_correct(d):\n",
    "    l=[0,0,0]\n",
    "    for key in d.keys():\n",
    "        if key==d[key]:\n",
    "            l[0]+=1\n",
    "        else:\n",
    "            if len(key)==len(d[key]):\n",
    "                c = 0\n",
    "                for i in range(len(key)):\n",
    "                        if key[i]!=d[key][i]:\n",
    "                            c+=1\n",
    "                if c<=2:\n",
    "                    l[1]+=1\n",
    "                else:\n",
    "                    l[2]+=1\n",
    "            else:\n",
    "                l[2]+=1\n",
    "    print(l)"
   ]
  },
  {
   "cell_type": "code",
   "execution_count": 14,
   "id": "25dd4bc1",
   "metadata": {},
   "outputs": [
    {
     "name": "stdout",
     "output_type": "stream",
     "text": [
      "[2, 2, 1]\n"
     ]
    }
   ],
   "source": [
    "find_correct({'THEIR':'THEIR','BUSINESS':'BISINESS','WINDOWS':'WINDMILL','WERE':'WEAR','SAMPLE':'SAMPLE'})"
   ]
  },
  {
   "cell_type": "code",
   "execution_count": 19,
   "id": "fb626377",
   "metadata": {},
   "outputs": [
    {
     "name": "stdout",
     "output_type": "stream",
     "text": [
      "Shoe with price: 1000 and material: Canvas\n",
      "Shoe with price: 10000 and material: Faux leather\n"
     ]
    }
   ],
   "source": [
    "class Shoe:\n",
    "    def __init__(self,price,material):\n",
    "        self.price=price\n",
    "        self.material = material\n",
    "    def __str__(self):\n",
    "        return \"Shoe with price: \"+str(self.price)+\" and material: \"+self.material\n",
    "s1 = Shoe(1000,\"Canvas\")\n",
    "s2 = Shoe(10000,\"Faux leather\")\n",
    "print(s1)\n",
    "print(s2)"
   ]
  },
  {
   "cell_type": "code",
   "execution_count": 16,
   "id": "75077796",
   "metadata": {},
   "outputs": [
    {
     "name": "stdout",
     "output_type": "stream",
     "text": [
      "100\n"
     ]
    }
   ],
   "source": [
    "class Customer:\n",
    "    def __init__(self,id):\n",
    "        self.id=100\n",
    "c1 = Customer(200)\n",
    "print(c1.id)"
   ]
  },
  {
   "cell_type": "markdown",
   "id": "c8921002",
   "metadata": {},
   "source": [
    "### Creating a class object directly without storing it in a variable"
   ]
  },
  {
   "cell_type": "code",
   "execution_count": 26,
   "id": "194cc7bc",
   "metadata": {},
   "outputs": [],
   "source": [
    "class Mobile:\n",
    "    def __init__(self,brand,price):\n",
    "        self.brand = brand\n",
    "        self.price = price\n",
    "        self.total_price = None\n",
    "    def display(self):\n",
    "        print(\"Displaying details\")\n",
    "        \n",
    "    def purchase(self):\n",
    "        if self.brand == 'Apple':\n",
    "            discount = 10\n",
    "        else:\n",
    "            discount = 5\n",
    "        self.total_price = self.price - self.price * (discount)\n",
    "        print(\"totla Price of: \",self.brand, \"mobile is\",self.total_price)\n",
    "    def ampount_returned(self):\n",
    "        return (self.price-self.total_price)"
   ]
  },
  {
   "cell_type": "code",
   "execution_count": 25,
   "id": "49aaf769",
   "metadata": {},
   "outputs": [
    {
     "name": "stdout",
     "output_type": "stream",
     "text": [
      "1277472499264\n",
      "1277472497920\n",
      "1277472497920\n"
     ]
    }
   ],
   "source": [
    "m1 = Mobile()\n",
    "m2 = Mobile()\n",
    "m1 = m2\n",
    "print(id(m1))"
   ]
  },
  {
   "cell_type": "code",
   "execution_count": 39,
   "id": "e974b2cb",
   "metadata": {},
   "outputs": [
    {
     "name": "stdout",
     "output_type": "stream",
     "text": [
      "1000\n",
      "6000\n"
     ]
    }
   ],
   "source": [
    "class Customer:\n",
    "    def __init__(self,cust_id,name,age,wallet_balance):\n",
    "        self.cust_id = cust_id\n",
    "        self.name = name\n",
    "        self.age = age\n",
    "        self.wallet_balance = wallet_balance\n",
    "    \n",
    "    def update_balance(self,amount):\n",
    "        if amount<50000 and amount>0:\n",
    "            self.wallet_balance+=amount\n",
    "            \n",
    "    def show_balance(self):\n",
    "        print(\"The Balance is \",self.wallet_balance)\n",
    "    \n",
    "    def get_wallet_balance(self):\n",
    "        return self.wallet_balance\n",
    "\n",
    "c1 = Customer(100,\"Gopal\",24,1000)\n",
    "print(c1.get_wallet_balance())\n",
    "c1.update_balance(5000)\n",
    "print(c1.get_wallet_balance())"
   ]
  },
  {
   "cell_type": "code",
   "execution_count": 43,
   "id": "60086548",
   "metadata": {},
   "outputs": [
    {
     "name": "stdout",
     "output_type": "stream",
     "text": [
      "Dam Name:  ABC dam\n",
      "Dam Length:  3.5\n"
     ]
    }
   ],
   "source": [
    "class Dam:\n",
    "    def __init__(self,name,length):\n",
    "        self.name=name\n",
    "        self.length = length\n",
    "    \n",
    "    def get_length(self):\n",
    "        return self.length\n",
    "dam1 = Dam(\"ABC dam\",3.5)\n",
    "#print(\"Dam Name: \",dam1.__name)\n",
    "print(\"Dam Name: \",dam1.name)\n",
    "print(\"Dam Length: \",dam1.get_length())"
   ]
  },
  {
   "cell_type": "code",
   "execution_count": 45,
   "id": "37859090",
   "metadata": {},
   "outputs": [
    {
     "name": "stdout",
     "output_type": "stream",
     "text": [
      "30000\n"
     ]
    }
   ],
   "source": [
    "class Table:\n",
    "    def __init__(self):\n",
    "        self.no_of_legs=4\n",
    "        self.__glass_top = None\n",
    "        self.__wooden_top=None\n",
    "    def assign_data(self,glass_top,wooden_top):\n",
    "        self.__glass_top=glass_top\n",
    "        self.__wooden_top = wooden_top\n",
    "    \n",
    "    def identify_rate(self,glass_top,wooden_top):\n",
    "        self.assign_data(glass_top,wooden_top)\n",
    "        if self.__glass_top == True:\n",
    "            rate = 20000\n",
    "        elif self.__wooden_top==True:\n",
    "            rate=30000\n",
    "        else:\n",
    "            rate=0\n",
    "        return rate\n",
    "dining_table = Table()\n",
    "rate = dining_table.identify_rate(False,True)\n",
    "print(rate)"
   ]
  },
  {
   "cell_type": "markdown",
   "id": "d1a746a8",
   "metadata": {},
   "source": [
    "#### FInd number of objects and reference variables"
   ]
  },
  {
   "cell_type": "code",
   "execution_count": 46,
   "id": "21f23bc6",
   "metadata": {},
   "outputs": [
    {
     "name": "stdout",
     "output_type": "stream",
     "text": [
      "<__main__.Table object at 0x000001296F4E12B0> <__main__.Table object at 0x000001296F4E12B0> <__main__.Table object at 0x000001296F4E1550>\n"
     ]
    }
   ],
   "source": [
    "class Table:\n",
    "    def __init__(self):\n",
    "        self.no_of_legs=4\n",
    "        self.glass_top=None\n",
    "        self.wooden_top=None\n",
    "dining_table=Table()\n",
    "back_table = Table()\n",
    "front_table = back_table\n",
    "back_table = dining_table\n",
    "print(dining_table,back_table,front_table)"
   ]
  },
  {
   "cell_type": "code",
   "execution_count": 48,
   "id": "d226609e",
   "metadata": {},
   "outputs": [
    {
     "name": "stdout",
     "output_type": "stream",
     "text": [
      "1277472674480 1277472674480 1277472675152\n"
     ]
    }
   ],
   "source": [
    "print(id(dining_table),id(back_table),id(front_table))"
   ]
  },
  {
   "cell_type": "code",
   "execution_count": null,
   "id": "e81f1a5f",
   "metadata": {},
   "outputs": [],
   "source": []
  }
 ],
 "metadata": {
  "kernelspec": {
   "display_name": "Python 3",
   "language": "python",
   "name": "python3"
  },
  "language_info": {
   "codemirror_mode": {
    "name": "ipython",
    "version": 3
   },
   "file_extension": ".py",
   "mimetype": "text/x-python",
   "name": "python",
   "nbconvert_exporter": "python",
   "pygments_lexer": "ipython3",
   "version": "3.8.8"
  }
 },
 "nbformat": 4,
 "nbformat_minor": 5
}
