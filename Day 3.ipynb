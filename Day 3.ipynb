{
 "cells": [
  {
   "cell_type": "markdown",
   "id": "2429df17",
   "metadata": {},
   "source": [
    "# Day 3"
   ]
  },
  {
   "cell_type": "markdown",
   "id": "d41e76a9",
   "metadata": {},
   "source": [
    "## Subarrays Using List Comprehension\n",
    "\n",
    "####  Q. From a starting and ending range make a subarray of list\n",
    "\n",
    "#### `s = 1`\n",
    "#### `e = 3`\n",
    "#### Output: [[1], [1,2], [1,2,3], [2], [2,3],[3]]"
   ]
  },
  {
   "cell_type": "code",
   "execution_count": 10,
   "id": "e93ab47e",
   "metadata": {},
   "outputs": [],
   "source": [
    "s=1\n",
    "e=3\n",
    "arr = [i for i in range(s,e+1)]\n",
    "arr2 = [arr[i:j+1] for i in range(len(arr)) for j in range(i,len(arr))]"
   ]
  },
  {
   "cell_type": "code",
   "execution_count": 11,
   "id": "79ce5b80",
   "metadata": {},
   "outputs": [
    {
     "data": {
      "text/plain": [
       "[[1], [1, 2], [1, 2, 3], [2], [2, 3], [3]]"
      ]
     },
     "execution_count": 11,
     "metadata": {},
     "output_type": "execute_result"
    }
   ],
   "source": [
    "arr2"
   ]
  },
  {
   "cell_type": "markdown",
   "id": "6fceba4d",
   "metadata": {},
   "source": [
    "## List Comprehension"
   ]
  },
  {
   "cell_type": "markdown",
   "id": "4d706d4c",
   "metadata": {},
   "source": [
    "#### Q. Make a List of numbers from 1 to n using List Comprehension"
   ]
  },
  {
   "cell_type": "code",
   "execution_count": 2,
   "id": "eed2da50",
   "metadata": {},
   "outputs": [
    {
     "name": "stdout",
     "output_type": "stream",
     "text": [
      "10\n",
      "Using Loop:  [1, 2, 3, 4, 5, 6, 7, 8, 9, 10]\n",
      "Using Comprehension:  [1, 2, 3, 4, 5, 6, 7, 8, 9, 10]\n"
     ]
    }
   ],
   "source": [
    "#Using For Loop\n",
    "forloop=[]\n",
    "n = int(input())\n",
    "for i in range(1,n+1):\n",
    "    forloop.append(i)\n",
    "print(\"Using Loop: \",forloop)\n",
    "\n",
    "#Using List Comprehension\n",
    "l = [i for i in range(1,n+1)]\n",
    "print(\"Using Comprehension: \",l)"
   ]
  },
  {
   "cell_type": "markdown",
   "id": "df938566",
   "metadata": {},
   "source": [
    "#### Q. Make a List of Odd Numbers from 1 to n using List Comprehension"
   ]
  },
  {
   "cell_type": "code",
   "execution_count": 5,
   "id": "5c28c4b3",
   "metadata": {},
   "outputs": [
    {
     "name": "stdout",
     "output_type": "stream",
     "text": [
      "5\n",
      "Using For Loop:  [1, 3]\n",
      "Using List Comprehension:  [1, 3]\n"
     ]
    }
   ],
   "source": [
    "#Using For Loop\n",
    "forloop =[]\n",
    "n = int(input())\n",
    "for i in range(1,n,2):\n",
    "    forloop.append(i)\n",
    "print(\"Using For Loop: \",forloop)\n",
    "\n",
    "#Using List Comprehension\n",
    "l = [i for i in range(1,n,2)]\n",
    "print(\"Using List Comprehension: \",l)"
   ]
  },
  {
   "cell_type": "markdown",
   "id": "e1a712df",
   "metadata": {},
   "source": [
    "#### Q. if number is even, take the number as it is else square it"
   ]
  },
  {
   "cell_type": "code",
   "execution_count": 109,
   "id": "f1d1184e",
   "metadata": {},
   "outputs": [],
   "source": [
    "l = [i if i%2==0 else i**2 for i in range(1,n+1)]"
   ]
  },
  {
   "cell_type": "code",
   "execution_count": 10,
   "id": "6c8df938",
   "metadata": {},
   "outputs": [
    {
     "data": {
      "text/plain": [
       "[1, 2, 9, 4, 25]"
      ]
     },
     "execution_count": 10,
     "metadata": {},
     "output_type": "execute_result"
    }
   ],
   "source": [
    "l"
   ]
  },
  {
   "cell_type": "markdown",
   "id": "b1d9051c",
   "metadata": {},
   "source": [
    "#### Q. Matrix using List Comprehension\n",
    "#### If Number is even, cube it, if odd square it"
   ]
  },
  {
   "cell_type": "code",
   "execution_count": 57,
   "id": "c27958ae",
   "metadata": {},
   "outputs": [],
   "source": [
    "mat = [[1,2,3,4],[5,6,7,8],[9,10,11,12],[13,14,15,16]]"
   ]
  },
  {
   "cell_type": "code",
   "execution_count": 48,
   "id": "ee2761de",
   "metadata": {},
   "outputs": [],
   "source": [
    "#for loop\n",
    "for i in range(len(mat)):\n",
    "    for j in range(len(mat[0])):\n",
    "        if mat[i][j]%2==0:\n",
    "            mat[i][j]**=3\n",
    "        else:\n",
    "            mat[i][j]**=2"
   ]
  },
  {
   "cell_type": "code",
   "execution_count": 49,
   "id": "b2b38544",
   "metadata": {},
   "outputs": [
    {
     "data": {
      "text/plain": [
       "[[1, 8, 9, 64],\n",
       " [25, 216, 49, 512],\n",
       " [81, 1000, 121, 1728],\n",
       " [169, 2744, 225, 4096]]"
      ]
     },
     "execution_count": 49,
     "metadata": {},
     "output_type": "execute_result"
    }
   ],
   "source": [
    "mat"
   ]
  },
  {
   "cell_type": "code",
   "execution_count": 58,
   "id": "49ed2128",
   "metadata": {},
   "outputs": [
    {
     "data": {
      "text/plain": [
       "[[1, 8, 9, 64],\n",
       " [25, 216, 49, 512],\n",
       " [81, 1000, 121, 1728],\n",
       " [169, 2744, 225, 4096]]"
      ]
     },
     "execution_count": 58,
     "metadata": {},
     "output_type": "execute_result"
    }
   ],
   "source": [
    "[[ele**2 if ele%2!=0 else ele**3 for ele in row] for row in mat]"
   ]
  },
  {
   "cell_type": "code",
   "execution_count": 54,
   "id": "867cae33",
   "metadata": {},
   "outputs": [
    {
     "data": {
      "text/plain": [
       "[[1, 8, 9, 64],\n",
       " [25, 216, 49, 512],\n",
       " [81, 1000, 121, 1728],\n",
       " [169, 2744, 225, 4096]]"
      ]
     },
     "execution_count": 54,
     "metadata": {},
     "output_type": "execute_result"
    }
   ],
   "source": [
    "mat"
   ]
  },
  {
   "cell_type": "markdown",
   "id": "8980ec40",
   "metadata": {},
   "source": [
    "#### Q. Paired Outputs\n",
    "For each number in `list_b`, get the number and its position(index) in `mylist` as turn 1. list of tuples 2. dictionary\n",
    "\n",
    ">#### Input  \n",
    ">   mylist = [9,3,6,1,5,0,8,2,4,7]   \n",
    ">   list_b = [6,4,6,1,2,2]\n",
    "    \n",
    "    \n",
    "    \n",
    ">#### Output\n",
    ">   result = [(6,2),(4,8),(6,2),(1,3),(2,7),(2,7)]"
   ]
  },
  {
   "cell_type": "code",
   "execution_count": 63,
   "id": "bda90a35",
   "metadata": {},
   "outputs": [],
   "source": [
    "mylist = [9,3,6,1,5,0,8,2,4,7]\n",
    "list_b = [6,4,6,1,2,2]\n",
    "result = [(i,mylist.index(i)) for i in list_b]"
   ]
  },
  {
   "cell_type": "code",
   "execution_count": 64,
   "id": "3d939700",
   "metadata": {},
   "outputs": [
    {
     "data": {
      "text/plain": [
       "[(6, 2), (4, 8), (6, 2), (1, 3), (2, 7), (2, 7)]"
      ]
     },
     "execution_count": 64,
     "metadata": {},
     "output_type": "execute_result"
    }
   ],
   "source": [
    "result"
   ]
  },
  {
   "cell_type": "code",
   "execution_count": 68,
   "id": "2134059f",
   "metadata": {},
   "outputs": [],
   "source": [
    "result = {i:mylist.index(i) for i in list_b}"
   ]
  },
  {
   "cell_type": "code",
   "execution_count": 69,
   "id": "13a25c1f",
   "metadata": {},
   "outputs": [
    {
     "data": {
      "text/plain": [
       "{6: 2, 4: 8, 1: 3, 2: 7}"
      ]
     },
     "execution_count": 69,
     "metadata": {},
     "output_type": "execute_result"
    }
   ],
   "source": [
    "result"
   ]
  },
  {
   "cell_type": "code",
   "execution_count": 72,
   "id": "1bb77757",
   "metadata": {},
   "outputs": [],
   "source": [
    "result = {i:[mylist.index(i),list_b.count(i)] for i in list_b}"
   ]
  },
  {
   "cell_type": "code",
   "execution_count": 73,
   "id": "eae8efe5",
   "metadata": {},
   "outputs": [
    {
     "data": {
      "text/plain": [
       "{6: [2, 2], 4: [8, 1], 1: [3, 1], 2: [7, 2]}"
      ]
     },
     "execution_count": 73,
     "metadata": {},
     "output_type": "execute_result"
    }
   ],
   "source": [
    "result"
   ]
  },
  {
   "cell_type": "markdown",
   "id": "857da2a9",
   "metadata": {},
   "source": [
    "#### Problem Statement: The Goal is to tokenize the following 5 sentences into words, excluding stop words.\n",
    "#### sentences = [\"a new world record was set\", \"in the holy city of ayodhya\",\"on the eve of diwali tuesday\" , \"with over three lakh diya or earthen lamps\", \"lit up simultaneously on the banks of the saryu river\"]\n",
    "\n",
    "#### stopword = ['for','a','of','the','and','to','in','on','with']"
   ]
  },
  {
   "cell_type": "code",
   "execution_count": 98,
   "id": "4d1410ec",
   "metadata": {},
   "outputs": [],
   "source": [
    " sentences = [\"a new world record was set\", \"in the holy city of ayodhya\",\"on the eve of diwali tuesday\" , \"with over three lakh diya or earthen lamps\", \"lit up simultaneously on the banks of the saryu river\"]"
   ]
  },
  {
   "cell_type": "code",
   "execution_count": 105,
   "id": "c5cf717a",
   "metadata": {},
   "outputs": [],
   "source": [
    " stopword = ['for','a','of','the','and','to','in','on','with','was']"
   ]
  },
  {
   "cell_type": "code",
   "execution_count": 113,
   "id": "37e39cbf",
   "metadata": {},
   "outputs": [],
   "source": [
    "#as 1D Array\n",
    "d = [word for sentence in sentences for word in sentence.split() if word not in stopword]"
   ]
  },
  {
   "cell_type": "code",
   "execution_count": 111,
   "id": "beb018a3",
   "metadata": {},
   "outputs": [
    {
     "data": {
      "text/plain": [
       "['new',\n",
       " 'world',\n",
       " 'record',\n",
       " 'set',\n",
       " 'holy',\n",
       " 'city',\n",
       " 'ayodhya',\n",
       " 'eve',\n",
       " 'diwali',\n",
       " 'tuesday',\n",
       " 'over',\n",
       " 'three',\n",
       " 'lakh',\n",
       " 'diya',\n",
       " 'or',\n",
       " 'earthen',\n",
       " 'lamps',\n",
       " 'lit',\n",
       " 'up',\n",
       " 'simultaneously',\n",
       " 'banks',\n",
       " 'saryu',\n",
       " 'river']"
      ]
     },
     "execution_count": 111,
     "metadata": {},
     "output_type": "execute_result"
    }
   ],
   "source": [
    "d"
   ]
  },
  {
   "cell_type": "code",
   "execution_count": 116,
   "id": "30abfb99",
   "metadata": {},
   "outputs": [
    {
     "data": {
      "text/plain": [
       "[['new', 'world', 'record', 'set'],\n",
       " ['holy', 'city', 'ayodhya'],\n",
       " ['eve', 'diwali', 'tuesday'],\n",
       " ['over', 'three', 'lakh', 'diya', 'or', 'earthen', 'lamps'],\n",
       " ['lit', 'up', 'simultaneously', 'banks', 'saryu', 'river']]"
      ]
     },
     "execution_count": 116,
     "metadata": {},
     "output_type": "execute_result"
    }
   ],
   "source": [
    "[[word for word in sentence.split() if word not in stopword]for sentence in sentences]"
   ]
  },
  {
   "cell_type": "markdown",
   "id": "6669542e",
   "metadata": {},
   "source": [
    "#### Problem Statement: \n",
    "A String of comma seperated numbers, the number 5 and 8 are present in the list. Assume that 8 always comes after 5.\n",
    "\n",
    ">case1: num1 = add all the numbers which do not lie between 5 and 8\n",
    "\n",
    ">case2: num2 = number formed by concatenating all numbers from 5 to 8\n",
    "\n",
    "output: sum of num1 and num2\n",
    "\n",
    "example:\n",
    "3,2,6,5,1,4,8,9\n",
    "\n",
    "num1 = 3+2+6+9 = 20\n",
    "num2 = 5148\n",
    "\n",
    "op = 5148+20 = 5168"
   ]
  },
  {
   "cell_type": "code",
   "execution_count": 202,
   "id": "a60231b0",
   "metadata": {},
   "outputs": [],
   "source": [
    "from functools import reduce\n",
    "def returnsum(s):\n",
    "    l = list(s.split(','))\n",
    "    l1 = ''.join(map(str,l[l.index('5'):l.index('8')+1]))\n",
    "    l2 = reduce(lambda a,b: int(a)+int(b),[x for x in l if x not in l1])\n",
    "    return int(l1)+l2"
   ]
  },
  {
   "cell_type": "code",
   "execution_count": 207,
   "id": "b35f6626",
   "metadata": {},
   "outputs": [
    {
     "data": {
      "text/plain": [
       "5168"
      ]
     },
     "execution_count": 207,
     "metadata": {},
     "output_type": "execute_result"
    }
   ],
   "source": [
    "returnsum('3,2,6,5,1,4,8,9')"
   ]
  },
  {
   "cell_type": "code",
   "execution_count": 206,
   "id": "62a2eecf",
   "metadata": {},
   "outputs": [],
   "source": [
    "from functools import reduce\n",
    "def returnsum(s):\n",
    "    s = s.replace(',','')\n",
    "    l1 = ''.join(map(str,s[s.index('5'):s.index('8')+1]))\n",
    "    s =s.replace(l1,'')\n",
    "    return int(l1)+sum(map(int,list(s)))"
   ]
  },
  {
   "cell_type": "code",
   "execution_count": 213,
   "id": "d101fc93",
   "metadata": {},
   "outputs": [
    {
     "name": "stdout",
     "output_type": "stream",
     "text": [
      "3,2,6,5,1,4,8,9\n",
      "5168\n"
     ]
    }
   ],
   "source": [
    "l = list(map(int,input().split(',')))\n",
    "print(sum(l[:l.index(5)]+l[l.index(8)+1:])+int(''.join(map(str,l[l.index(5):l.index(8)+1]))))"
   ]
  },
  {
   "cell_type": "markdown",
   "id": "9b1fa03d",
   "metadata": {},
   "source": [
    "#### String Rotation\n",
    "#### input -> rhdt:246, ghftd:1246\n",
    "\n",
    "#### If sum of squares of digit is even then rotate the string right by 1, if sum of square of digits is odd then rotate the string left by 2 position\n",
    "\n",
    "> Input\n",
    "\n",
    "> 2 * 2 + 4 * 4 + 6 * 6 = 56 which is even so rotate rhdt=trhd\n",
    "\n",
    ">1 * 1 + 2 * 2 + 4 * 4 + 6 * 6 = 57 which is odd so rotate left by 2"
   ]
  },
  {
   "cell_type": "code",
   "execution_count": 239,
   "id": "a1d5ef54",
   "metadata": {},
   "outputs": [
    {
     "name": "stdout",
     "output_type": "stream",
     "text": [
      "rhdt:246\n"
     ]
    },
    {
     "data": {
      "text/plain": [
       "'trhd'"
      ]
     },
     "execution_count": 239,
     "metadata": {},
     "output_type": "execute_result"
    }
   ],
   "source": [
    "s = list(input().split(':'))\n",
    "st = lambda s: s[0][-1]+s[0][:-1] if (sum([int(x)**2 for x in s[1]])%2==0)  else s[0][2:]+s[0][:2]\n",
    "st(s)"
   ]
  },
  {
   "cell_type": "markdown",
   "id": "1ac793be",
   "metadata": {},
   "source": [
    "#### Q. Find the largest common substring in 2 words"
   ]
  },
  {
   "cell_type": "code",
   "execution_count": 82,
   "id": "b25dd005",
   "metadata": {},
   "outputs": [],
   "source": [
    "def largest_common_substring(word1,word2):\n",
    "    arr = [i for i in range(0,len(word1))]\n",
    "    arr = [word1[i:j+1] for i in range(len(arr)) for j in range(i,len(arr))]\n",
    "    arr2 = [i for i in range(0,len(word2))]\n",
    "    arr2 = [word2[i:j+1] for i in range(len(arr2)) for j in range(i,len(arr2))]\n",
    "    l={}\n",
    "    for c in arr:\n",
    "        if c in arr2:\n",
    "            l[len(c)]=c\n",
    "    print(l[max(l.keys())])\n",
    "    "
   ]
  },
  {
   "cell_type": "code",
   "execution_count": 83,
   "id": "981b9c2c",
   "metadata": {},
   "outputs": [
    {
     "name": "stdout",
     "output_type": "stream",
     "text": [
      "abcdef\n"
     ]
    }
   ],
   "source": [
    "largest_common_substring('abcdefg','abcdef')"
   ]
  },
  {
   "cell_type": "markdown",
   "id": "6bc1f966",
   "metadata": {},
   "source": [
    "#### Given a number n, write a program to find the sum of largest prime factors of each of nine consecutive numbers starting from n.\n",
    "g(n) = f(n) + f(n+1) + f(n+2) + f(n+3) + f(n+4) + f(n+5) + f(n+6) + f(n+7) + f(n+8)\n",
    "\n",
    "For Example,\n",
    "g(10) = f(10) + f(11) + f(12) + f(13) + f(14) + f(15) + f(16) + f(17) + f(18)\n",
    "\n",
    "Output:\n",
    "66"
   ]
  },
  {
   "cell_type": "code",
   "execution_count": 54,
   "id": "a6222025",
   "metadata": {},
   "outputs": [],
   "source": [
    "#Mersenne Prime Logic\n",
    "def prime(n):\n",
    "    if n==1 or n==2:\n",
    "        return n\n",
    "    elif (2**n-1)%n==1:\n",
    "        return n\n",
    "    else:\n",
    "        return -1\n",
    "#Prime-Factor\n",
    "def primefactor(n):\n",
    "    s=0\n",
    "    for i in range(0,9):\n",
    "        p = [x for x in range(1,n+1+i) if (n+i)%x==0]\n",
    "        p = list(map(prime,p))\n",
    "        s+=max(p)\n",
    "    return s"
   ]
  },
  {
   "cell_type": "code",
   "execution_count": 55,
   "id": "9fff3609",
   "metadata": {},
   "outputs": [
    {
     "data": {
      "text/plain": [
       "66"
      ]
     },
     "execution_count": 55,
     "metadata": {},
     "output_type": "execute_result"
    }
   ],
   "source": [
    "primefactor(10)"
   ]
  },
  {
   "cell_type": "markdown",
   "id": "e31f6fff",
   "metadata": {},
   "source": [
    "#### "
   ]
  }
 ],
 "metadata": {
  "kernelspec": {
   "display_name": "Python 3",
   "language": "python",
   "name": "python3"
  },
  "language_info": {
   "codemirror_mode": {
    "name": "ipython",
    "version": 3
   },
   "file_extension": ".py",
   "mimetype": "text/x-python",
   "name": "python",
   "nbconvert_exporter": "python",
   "pygments_lexer": "ipython3",
   "version": "3.8.8"
  }
 },
 "nbformat": 4,
 "nbformat_minor": 5
}
