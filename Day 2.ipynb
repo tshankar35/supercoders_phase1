{
 "cells": [
  {
   "cell_type": "markdown",
   "id": "0c4403cf",
   "metadata": {},
   "source": [
    "# Day 2"
   ]
  },
  {
   "cell_type": "markdown",
   "id": "e622e8a1",
   "metadata": {},
   "source": [
    "## List\n",
    "\n",
    "### List is a collection of unordered elements of heterogenous type. "
   ]
  },
  {
   "cell_type": "code",
   "execution_count": 1,
   "id": "639ce184",
   "metadata": {},
   "outputs": [],
   "source": [
    "l = [1,2,3,4,\"hello\"]"
   ]
  },
  {
   "cell_type": "markdown",
   "id": "bdc08a19",
   "metadata": {},
   "source": [
    "### List Functions\n",
    "\n",
    "#### Inserting Element to a Particular Index\n",
    "\n",
    "`l.insert(index,element)`\n",
    "\n",
    "where l is some pre-existing list"
   ]
  },
  {
   "cell_type": "code",
   "execution_count": 2,
   "id": "c8791ab3",
   "metadata": {},
   "outputs": [],
   "source": [
    "l.insert(2,0)"
   ]
  },
  {
   "cell_type": "code",
   "execution_count": 3,
   "id": "f48d0ce7",
   "metadata": {},
   "outputs": [
    {
     "data": {
      "text/plain": [
       "[1, 2, 0, 3, 4, 'hello']"
      ]
     },
     "execution_count": 3,
     "metadata": {},
     "output_type": "execute_result"
    }
   ],
   "source": [
    "l"
   ]
  },
  {
   "cell_type": "markdown",
   "id": "fb86623d",
   "metadata": {},
   "source": [
    "#### Extending List\n",
    "\n",
    "`l.extend([list])`\n",
    "\n",
    "where l is some pre-existing list"
   ]
  },
  {
   "cell_type": "code",
   "execution_count": 4,
   "id": "d85dcf53",
   "metadata": {},
   "outputs": [],
   "source": [
    "l.extend([32,33,34,35,'why'])"
   ]
  },
  {
   "cell_type": "code",
   "execution_count": 5,
   "id": "35e84d1a",
   "metadata": {},
   "outputs": [
    {
     "data": {
      "text/plain": [
       "[1, 2, 0, 3, 4, 'hello', 32, 33, 34, 35, 'why']"
      ]
     },
     "execution_count": 5,
     "metadata": {},
     "output_type": "execute_result"
    }
   ],
   "source": [
    "l"
   ]
  },
  {
   "cell_type": "markdown",
   "id": "c13bb36e",
   "metadata": {},
   "source": [
    "#### Pop Element from List\n",
    "\n",
    "`l.pop(index=optional)`\n",
    "\n",
    "if no index is provided, last element will be popped"
   ]
  },
  {
   "cell_type": "code",
   "execution_count": 6,
   "id": "bcaddb23",
   "metadata": {},
   "outputs": [
    {
     "data": {
      "text/plain": [
       "'why'"
      ]
     },
     "execution_count": 6,
     "metadata": {},
     "output_type": "execute_result"
    }
   ],
   "source": [
    "l.pop()"
   ]
  },
  {
   "cell_type": "code",
   "execution_count": 7,
   "id": "6dc26ecb",
   "metadata": {},
   "outputs": [
    {
     "data": {
      "text/plain": [
       "0"
      ]
     },
     "execution_count": 7,
     "metadata": {},
     "output_type": "execute_result"
    }
   ],
   "source": [
    "l.pop(2)"
   ]
  },
  {
   "cell_type": "markdown",
   "id": "99b22702",
   "metadata": {},
   "source": [
    "#### Remove Element from a list\n",
    "\n",
    "`l.remove(element)`\n"
   ]
  },
  {
   "cell_type": "code",
   "execution_count": 8,
   "id": "ba58e09e",
   "metadata": {},
   "outputs": [],
   "source": [
    "#l.remove(element)\n",
    "l.remove('hello')"
   ]
  },
  {
   "cell_type": "markdown",
   "id": "1f3cc5d9",
   "metadata": {},
   "source": [
    "#### Remove Element from a list based on index using `del` operator\n",
    "\n",
    "`del l[index]`\n",
    "\n",
    "where l is some pre-existing list"
   ]
  },
  {
   "cell_type": "code",
   "execution_count": 9,
   "id": "35afbb1a",
   "metadata": {},
   "outputs": [],
   "source": [
    "#del\n",
    "del  l[0]"
   ]
  },
  {
   "cell_type": "code",
   "execution_count": 10,
   "id": "6df4e83f",
   "metadata": {},
   "outputs": [
    {
     "data": {
      "text/plain": [
       "[2, 3, 4, 32, 33, 34, 35]"
      ]
     },
     "execution_count": 10,
     "metadata": {},
     "output_type": "execute_result"
    }
   ],
   "source": [
    "l"
   ]
  },
  {
   "cell_type": "markdown",
   "id": "81e9011d",
   "metadata": {},
   "source": [
    "### Write a program to count the numbers of character and numbers in a string and return in a list\n",
    "\n",
    "#### Input Sample\n",
    "Infosys 123\n",
    "\n",
    "#### Output Sample\n",
    "[7,3]\n",
    "     "
   ]
  },
  {
   "cell_type": "code",
   "execution_count": 11,
   "id": "f7ef7c2a",
   "metadata": {},
   "outputs": [
    {
     "name": "stdout",
     "output_type": "stream",
     "text": [
      "Infosys 123\n",
      "[7, 3]\n"
     ]
    }
   ],
   "source": [
    "text = input()\n",
    "l=[0,0]\n",
    "for ch in text:\n",
    "    if ch.isnumeric()==True:\n",
    "        l[1]+=1\n",
    "    elif ch.isalpha()==True:\n",
    "        l[0]+=1\n",
    "print(l)"
   ]
  },
  {
   "cell_type": "markdown",
   "id": "a1c9dbbe",
   "metadata": {},
   "source": [
    "### Write a Python Function, find_pair_of_numbers() which accepts a list of positive integers with no repetitions and returns count of pairs of numbers in the list that adds upto n. The Function should return 0 if no such pairs are found\n",
    "\n",
    "#### [1,2,7,4,5,6,0,3],6\n",
    "#### > 3"
   ]
  },
  {
   "cell_type": "code",
   "execution_count": 1,
   "id": "59a57d80",
   "metadata": {},
   "outputs": [],
   "source": [
    "def find_pair_of_numbers(l,su):\n",
    "    l.sort()\n",
    "    i=0\n",
    "    j=len(l)-1\n",
    "    cnt=0\n",
    "    while i<j:\n",
    "        if l[i]+l[j]==su:\n",
    "            cnt+=1\n",
    "            i+=1\n",
    "            j-=1\n",
    "        elif l[i]+l[j]<su:\n",
    "            i+=1\n",
    "        elif l[i]+l[j]>su:\n",
    "            j-=1\n",
    "    print(cnt)"
   ]
  },
  {
   "cell_type": "code",
   "execution_count": 2,
   "id": "80bc233f",
   "metadata": {},
   "outputs": [
    {
     "name": "stdout",
     "output_type": "stream",
     "text": [
      "3\n"
     ]
    }
   ],
   "source": [
    "find_pair_of_numbers([1,2,7,4,5,6,0,3],6)"
   ]
  },
  {
   "cell_type": "markdown",
   "id": "f598fea8",
   "metadata": {},
   "source": [
    "### Write a Python function which accepts a string and returns a string made of the first 2 and last 2 characters of the given string. If the string length is less than , return -1"
   ]
  },
  {
   "cell_type": "code",
   "execution_count": 3,
   "id": "93a5a816",
   "metadata": {},
   "outputs": [],
   "source": [
    "def stringmani(st):\n",
    "    if len(st)>=2:\n",
    "        return st[:2]+st[-2:]\n",
    "    else:\n",
    "        return -1"
   ]
  },
  {
   "cell_type": "code",
   "execution_count": 4,
   "id": "d5ae885a",
   "metadata": {},
   "outputs": [
    {
     "data": {
      "text/plain": [
       "'w3w3'"
      ]
     },
     "execution_count": 4,
     "metadata": {},
     "output_type": "execute_result"
    }
   ],
   "source": [
    "stringmani('w3w3')"
   ]
  },
  {
   "cell_type": "markdown",
   "id": "e26d2cca",
   "metadata": {},
   "source": [
    "### Write a python function to add 'ing' of a given string and return new string\n",
    "### If the given string already ends with -ing then add -ly"
   ]
  },
  {
   "cell_type": "code",
   "execution_count": 5,
   "id": "2faa2070",
   "metadata": {},
   "outputs": [],
   "source": [
    "def stringmod(st):\n",
    "    if st[-3:]=='ing':\n",
    "        return st+'ly'\n",
    "    elif len(st)<=2:\n",
    "        return st\n",
    "    else:\n",
    "        return st+'ing'"
   ]
  },
  {
   "cell_type": "code",
   "execution_count": 6,
   "id": "66b00263",
   "metadata": {},
   "outputs": [
    {
     "data": {
      "text/plain": [
       "'is'"
      ]
     },
     "execution_count": 6,
     "metadata": {},
     "output_type": "execute_result"
    }
   ],
   "source": [
    "stringmod('is')"
   ]
  },
  {
   "cell_type": "markdown",
   "id": "da4fb349",
   "metadata": {},
   "source": [
    "### Write a python function check_double(number) which accepts a whole number and returns True if it satisfies the following conditions\n",
    "\n",
    "#### 1. The Number and its double should have exactly the same number of digits\n",
    "#### 2. Both the Numbers should have the same digits, but in different order\n",
    "#### Return true if 1 and 2 is satisfied else return false"
   ]
  },
  {
   "cell_type": "code",
   "execution_count": 7,
   "id": "ffc99f81",
   "metadata": {},
   "outputs": [],
   "source": [
    "def check_double(num):\n",
    "    d = list(str((num*2)))\n",
    "    num = list(str(num))\n",
    "    d.sort()\n",
    "    num.sort()\n",
    "    if len(d)==len(num) and num==d:\n",
    "             return True\n",
    "    else:\n",
    "             return False"
   ]
  },
  {
   "cell_type": "code",
   "execution_count": 8,
   "id": "f8246073",
   "metadata": {},
   "outputs": [
    {
     "data": {
      "text/plain": [
       "True"
      ]
     },
     "execution_count": 8,
     "metadata": {},
     "output_type": "execute_result"
    }
   ],
   "source": [
    "check_double(125874)"
   ]
  },
  {
   "cell_type": "code",
   "execution_count": 9,
   "id": "b239e304",
   "metadata": {},
   "outputs": [
    {
     "data": {
      "text/plain": [
       "False"
      ]
     },
     "execution_count": 9,
     "metadata": {},
     "output_type": "execute_result"
    }
   ],
   "source": [
    "check_double(234968)"
   ]
  },
  {
   "cell_type": "markdown",
   "id": "96f45eaa",
   "metadata": {},
   "source": [
    "Input marks of 10 subjects in Tuple form\n",
    "1. find_more_than_average() - How Many Students in percentage have scored more than average marks\n",
    "2. generate_frequency() - How Many Students have scored same marks in form of a list starting from minimum to maximum marks\n",
    "3. sort_marks() - Sort the marks in increasing order"
   ]
  },
  {
   "cell_type": "code",
   "execution_count": 10,
   "id": "0691a7ce",
   "metadata": {},
   "outputs": [],
   "source": [
    "class Student:\n",
    "    def __init__(self,marklist):\n",
    "        self.marks = list(marklist)\n",
    "        \n",
    "    def find_more_than_average(self):\n",
    "        avg = sum(self.marks)/len(self.marks)\n",
    "        cnt=0\n",
    "        for ele in self.marks:\n",
    "            if ele>avg:\n",
    "                cnt+=1\n",
    "        return (cnt/len(self.marks))*100\n",
    "    \n",
    "    def generate_frequency(self):\n",
    "        d={}\n",
    "        for i in range(1,26):\n",
    "            d[i]=self.marks.count(i)\n",
    "        return list(d.values())\n",
    "\n",
    "    def sort_marks(self):\n",
    "        self.marks.sort()\n",
    "        return self.marks"
   ]
  },
  {
   "cell_type": "code",
   "execution_count": 11,
   "id": "c10bbc06",
   "metadata": {},
   "outputs": [],
   "source": [
    "ob = Student((12,18,25,24,2,5,18,20,20,21))"
   ]
  },
  {
   "cell_type": "code",
   "execution_count": 12,
   "id": "52234db3",
   "metadata": {},
   "outputs": [
    {
     "data": {
      "text/plain": [
       "70.0"
      ]
     },
     "execution_count": 12,
     "metadata": {},
     "output_type": "execute_result"
    }
   ],
   "source": [
    "ob.find_more_than_average()"
   ]
  },
  {
   "cell_type": "code",
   "execution_count": 13,
   "id": "20f23446",
   "metadata": {},
   "outputs": [
    {
     "data": {
      "text/plain": [
       "[0, 1, 0, 0, 1, 0, 0, 0, 0, 0, 0, 1, 0, 0, 0, 0, 0, 2, 0, 2, 1, 0, 0, 1, 1]"
      ]
     },
     "execution_count": 13,
     "metadata": {},
     "output_type": "execute_result"
    }
   ],
   "source": [
    "ob.generate_frequency()"
   ]
  },
  {
   "cell_type": "code",
   "execution_count": 14,
   "id": "968c40ee",
   "metadata": {},
   "outputs": [
    {
     "data": {
      "text/plain": [
       "[2, 5, 12, 18, 18, 20, 20, 21, 24, 25]"
      ]
     },
     "execution_count": 14,
     "metadata": {},
     "output_type": "execute_result"
    }
   ],
   "source": [
    "ob.sort_marks()"
   ]
  },
  {
   "cell_type": "markdown",
   "id": "0c65dd4c",
   "metadata": {},
   "source": [
    "#### Write a translate function to translate from english to swedish, using a translation dictionary"
   ]
  },
  {
   "cell_type": "code",
   "execution_count": 15,
   "id": "a2bb540c",
   "metadata": {},
   "outputs": [
    {
     "name": "stdout",
     "output_type": "stream",
     "text": [
      "merry christmas and a happy new yeae\n",
      "god jul och gott nytt "
     ]
    }
   ],
   "source": [
    "def translate(d,s):\n",
    "    for wd in s.split(' '):\n",
    "        try:\n",
    "            print(d[wd],end=\" \")\n",
    "        except:\n",
    "            continue\n",
    "d = {'merry':'god','christmas':'jul','and':'och','happy':'gott','new':'nytt','year':'ar'}\n",
    "s = input()\n",
    "translate(d,s)"
   ]
  },
  {
   "cell_type": "markdown",
   "id": "44ff1ff7",
   "metadata": {},
   "source": [
    "#### Find Number of Distinct SubArrays in an array of position integers such that the sum of the subarray is a odd integer"
   ]
  },
  {
   "cell_type": "code",
   "execution_count": 16,
   "id": "3df240c9",
   "metadata": {},
   "outputs": [],
   "source": [
    "def distinctsubarr(s,e):\n",
    "    cnt=0\n",
    "    l = list(range(s,e+1))\n",
    "    for i in range(len(l)):\n",
    "        for j in range(1,len(l)+1):\n",
    "            if sum(l[i:j])%2==1:\n",
    "                cnt+=1\n",
    "    return cnt"
   ]
  },
  {
   "cell_type": "code",
   "execution_count": 17,
   "id": "a39b6481",
   "metadata": {},
   "outputs": [
    {
     "data": {
      "text/plain": [
       "4"
      ]
     },
     "execution_count": 17,
     "metadata": {},
     "output_type": "execute_result"
    }
   ],
   "source": [
    "distinctsubarr(1,3)"
   ]
  },
  {
   "cell_type": "code",
   "execution_count": null,
   "id": "7da63e0b",
   "metadata": {},
   "outputs": [],
   "source": []
  }
 ],
 "metadata": {
  "kernelspec": {
   "display_name": "Python 3",
   "language": "python",
   "name": "python3"
  },
  "language_info": {
   "codemirror_mode": {
    "name": "ipython",
    "version": 3
   },
   "file_extension": ".py",
   "mimetype": "text/x-python",
   "name": "python",
   "nbconvert_exporter": "python",
   "pygments_lexer": "ipython3",
   "version": "3.8.8"
  }
 },
 "nbformat": 4,
 "nbformat_minor": 5
}
