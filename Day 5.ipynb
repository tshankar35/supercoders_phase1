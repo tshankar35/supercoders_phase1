{
 "cells": [
  {
   "cell_type": "markdown",
   "id": "6664447b",
   "metadata": {},
   "source": [
    "# Day 5"
   ]
  },
  {
   "cell_type": "markdown",
   "id": "aa7e2ef3",
   "metadata": {},
   "source": [
    "### WeCare Insurance company wants to calculate premium of vehicles.\n",
    "Vehicles are of two types - \"Two Wheeler\", \"Four Wheeler\"\n",
    "Each vehicle is identified by `vehicle id, type, cost and premium amount`\n",
    "Premium amount is 2% of the vehicle cost for two wheelers and 6% of vehicle cost for four wheelers\n",
    "\n",
    "Calculate the premium amount and display the vehicle details.\n",
    "Write a Python Program to implement the class chosen with its attributes and methods\n",
    "\n",
    "Consider all instance variables to be private and methods to be public\n",
    "Include getter and setter methods for all instance variables\n",
    "Display appropriate error, if the vehicle type is not correct"
   ]
  },
  {
   "cell_type": "code",
   "execution_count": 78,
   "id": "7c40cad6",
   "metadata": {},
   "outputs": [],
   "source": [
    "class WeCare:\n",
    "    def __init__(self):\n",
    "        self.__id = None\n",
    "        self.__type = None\n",
    "        self.__cost = None\n",
    "        self.__premium = None\n",
    "     \n",
    "    #Setter Function\n",
    "    def setID(self,ID):\n",
    "        self.__id = ID\n",
    "    def setType(self,Type):\n",
    "        self.__type= Type\n",
    "    def setCost(self,Cost):\n",
    "        self.__cost = Cost\n",
    "    def setPremium(self,prem):\n",
    "        self.__premium = prem\n",
    "        \n",
    "    def calculatepremium(self):\n",
    "        if self.__type=='Two Wheeler':\n",
    "            pre = (self.__cost*0.02)\n",
    "        elif self.__type=='Four Wheeler':\n",
    "            pre = (self.__cost*0.06)\n",
    "        else:\n",
    "            pre=-1\n",
    "        self.setPremium(pre)\n",
    "    \n",
    "    #Getter Function\n",
    "    def getID(self):\n",
    "        return self.__id\n",
    "    def getType(self):\n",
    "        return self.__type\n",
    "    def getCost(self):\n",
    "        return self.__cost\n",
    "    def getPremium(self):\n",
    "        return self.__premium\n",
    "        \n",
    "    def display(self):\n",
    "        if self.__premium != -1:\n",
    "            print(\"ID: {}, Type: {}, Cost: {}, Premium:{}\".format(self.getID(),self.getType(),self.getCost(),self.getPremium()))\n",
    "        else:\n",
    "            print(\"Invalid Vehicle Details\")"
   ]
  },
  {
   "cell_type": "code",
   "execution_count": 79,
   "id": "60ec15b0",
   "metadata": {},
   "outputs": [
    {
     "data": {
      "text/plain": [
       "1264789065488"
      ]
     },
     "execution_count": 79,
     "metadata": {},
     "output_type": "execute_result"
    }
   ],
   "source": [
    "ob= WeCare()\n",
    "ob.setID(101)\n",
    "ob.setType(\"Two Wheeler\")\n",
    "ob.setCost(10000)\n",
    "id(ob)"
   ]
  },
  {
   "cell_type": "code",
   "execution_count": 80,
   "id": "bb39b546",
   "metadata": {},
   "outputs": [
    {
     "name": "stdout",
     "output_type": "stream",
     "text": [
      "ID: 101, Type: Two Wheeler, Cost: 10000, Premium:200.0\n"
     ]
    }
   ],
   "source": [
    "ob.calculatepremium()\n",
    "ob.display()"
   ]
  },
  {
   "cell_type": "markdown",
   "id": "cb9a729a",
   "metadata": {},
   "source": [
    "### A University wants to automate their admission process. Students are admitted based on marks according to a qualifying exams.\n",
    "\n",
    "A Student is identified by studentid, age and marks in qualifying exam\n",
    "\n",
    "Data is valid, if:\n",
    "  * Age is greater than 20\n",
    "  * Marks is between 0 and 100\n",
    "\n",
    "A Student qualifies for the admission if:\n",
    "  * Age and Marks are Valid\n",
    "  * Marks is greater than 65\n",
    "\n",
    "Rules to Follow:\n",
    "Class Name: Student\n",
    "-- Attributes: (private)\n",
    "   * student_id\n",
    "   * marks\n",
    "   * age\n",
    "\n",
    "Methods:\n",
    "(public)\n",
    "* __init__()\n",
    "* validate_marks()\n",
    "* validate_age()\n",
    "* check_qualification()\n",
    "    If So Return True\n",
    "    Else Return False\n",
    "    \n",
    "* setter methods for all instance variables\n",
    "* getter methods for all instance variables\n",
    "\n",
    "Continuing with the previous scenario, a student eligbile for admission has to choose a course and pay the fees for it. If they have scored more than 85 marks in qualifying exam, they get a 25% discount on the fees.\n"
   ]
  },
  {
   "cell_type": "code",
   "execution_count": 112,
   "id": "0b1388d2",
   "metadata": {},
   "outputs": [],
   "source": [
    "class Student:\n",
    "    def __init__(self):\n",
    "        self.__marks=None\n",
    "        self.__age=None\n",
    "        self.__courseid = None\n",
    "        \n",
    "    #setter function\n",
    "    def setage(self,age):\n",
    "        self.__age=age\n",
    "    def setmarks(self,marks):\n",
    "        self.__marks=marks\n",
    "    def setcourseid(self,courseid):\n",
    "        self.__courseid=courseid\n",
    "    \n",
    "    #getter function\n",
    "    def getage(self):\n",
    "        return self.__age\n",
    "    def getmarks(self):\n",
    "        return self.__marks\n",
    "    def getcourseid(self):\n",
    "        return self.__courseid\n",
    "    \n",
    "    #validate_marks\n",
    "    def validate_marks(self):\n",
    "        if self.getmarks()>0 and self.getmarks()<100:\n",
    "            return True\n",
    "        else:\n",
    "            return False\n",
    "    \n",
    "    #validate_age()\n",
    "    def validate_age(self):\n",
    "        if self.getage()>20:\n",
    "            return True\n",
    "        else:\n",
    "            return False\n",
    "        \n",
    "    #check_elgibility\n",
    "    def check_eligibility(self):\n",
    "        if self.validate_age() == True and self.validate_marks()==True:\n",
    "            if self.getmarks()>65:\n",
    "                print(\"True\")\n",
    "                print(self.fees())\n",
    "            else:\n",
    "                return False\n",
    "        else:\n",
    "            return False\n",
    "\n",
    "    def fees(self):\n",
    "        d={1001:25575,1002:15500}\n",
    "        if self.getmarks()>85:\n",
    "            try:\n",
    "                return \"25% Discounted Fees: \"+str(d[self.getcourseid()]*0.75)\n",
    "            except:\n",
    "                return \"Invalid Course ID\"\n",
    "        else:\n",
    "            return \"Fees to Pay: \"+str(d[self.getcourseid()])"
   ]
  },
  {
   "cell_type": "code",
   "execution_count": 113,
   "id": "fc55dd9c",
   "metadata": {},
   "outputs": [],
   "source": [
    "ob = Student()"
   ]
  },
  {
   "cell_type": "code",
   "execution_count": 115,
   "id": "4724a058",
   "metadata": {},
   "outputs": [
    {
     "name": "stdout",
     "output_type": "stream",
     "text": [
      "True\n",
      "25% Discounted Fees: 11625.0\n"
     ]
    }
   ],
   "source": [
    "ob.setage(22)\n",
    "ob.setmarks(88)\n",
    "ob.setcourseid(1002)\n",
    "ob.check_eligibility()"
   ]
  },
  {
   "cell_type": "markdown",
   "id": "13f9e245",
   "metadata": {},
   "source": [
    "### Pizza for You is a pizza store which sells different kinds of pizzas based on customer's order. Customer can either collect the order in person or opt for a door delivery. Write a python program based on the class diagram given below\n",
    "\n",
    "### Rules to follow\n",
    "Customer Class:\n",
    "   * validate_quantity() -  Customer can order 1 to 5 pizzas. If valid return true, else return false\n",
    "   \n",
    "PizzaService Class:\n",
    "   * Initialise static variable counter to 100\n",
    "   Attribute\n",
    "   * additional_topping is a boolean value which indicates whether additional topping is required or not, True if required. False, if not required\n",
    "   * validate_pizza_type() - Customers can order small or medium type pizzas. If valid return True else return False\n",
    "   * calculate_pizza_cost() - Calculate Pizza Cost, validate type and quantity\n",
    "                 - If valid, Identify the pizza cost based on the details mentioned belw in the table\n",
    "                 - Set attribute pizza cost with calculated pizza cost\n",
    "                 - Autogenerate service_id based starting from 101 by first letter of pizza type\n",
    "                             - Example - S101, s102, m103, S104, M105 etc.\n",
    "                 - If Invalid set pizza cost to -1\n",
    "- Pizza Type | Cost | Additional Topping Cost\n",
    "- Small      | 150  |  35\n",
    "- Medium     |  200 |  50\n",
    "\n",
    "DoorDelivery Class:\n",
    "* validate_distance_in_kms() - Minimum distance for door delivery is 1km and maximum is 10km\n",
    "                             - If valid, return true, else return false\n",
    "* caclulate_pizza_cost() - Calculate pizza cost\n",
    "Validate Distance in kms\n",
    "if valid,\n",
    "Calculate pizza cost (Hint: Invoke Overriden Method in Parent Class)\n",
    "If pizza_cost is not -1 identify the delivery charge based on the details\n",
    "\n",
    "Distance in kms Delivery charge in km \n",
    "For first 5km      5\n",
    "For remaining 5km  7\n",
    "Else set pizza_cost to  -1\n",
    "\n",
    "Perform case insensitive string comparision\n",
    "For testing:\n",
    "Create objects of PizzaService and Doordelivery Class\n",
    "Invoke calculate_pizza_cost() on Pizzaservice and DoorDelivery\n",
    "Display the details"
   ]
  },
  {
   "cell_type": "code",
   "execution_count": 100,
   "id": "2b9dbfbe",
   "metadata": {},
   "outputs": [],
   "source": [
    "class Customer:\n",
    "    def __init__(self):\n",
    "        self.quantity = None\n",
    "    def getquantity(self):\n",
    "        return self.quantity\n",
    "    def setquantity(self,quantity):\n",
    "        self.quantity = quantity\n",
    "    def validate_quantity(self):\n",
    "        if self.getquantity()>=1 and self.getquantity()<=5:\n",
    "            return True\n",
    "        else:\n",
    "            return False"
   ]
  },
  {
   "cell_type": "code",
   "execution_count": 129,
   "id": "fcf4a981",
   "metadata": {},
   "outputs": [],
   "source": [
    "class Pizza(Customer):\n",
    "    count=100\n",
    "    def __init__(self):\n",
    "        self.__additional = None\n",
    "        self.__pizzatype = None\n",
    "        self.pizzacost = None\n",
    "        self.serviceid = None\n",
    "        Customer.__init__(self)\n",
    "    \n",
    "    def setadditional(self,additional):\n",
    "        self.__additional = additional\n",
    "    def setptype(self,ptype):\n",
    "        self.__pizzatype = ptype\n",
    "    def setserviceid(self, serviceid):\n",
    "        self.serviceid = serviceid\n",
    "    def setpizzacost(self,cost):\n",
    "        self.pizzacost = cost\n",
    "    \n",
    "    def getadditional(self):\n",
    "        return self.__additional\n",
    "    def getpizzatype(self):\n",
    "        return self.__pizzatype\n",
    "    def getserviceid(self):\n",
    "        return self.serviceid\n",
    "    def getpizzacost(self):\n",
    "        return self.pizzacost\n",
    "    \n",
    "    \n",
    "    def validate_pizzatype(self):\n",
    "        if Customer.validate_quantity()==True:\n",
    "            if self.getpizzatype()=='Medium' or self.getpizzatype()=='medium':\n",
    "                Pizza.count+=1\n",
    "                self.serviceid = self.getpizzatype()[0]+str(Pizza.count)\n",
    "                return True\n",
    "            elif self.getpizzatype()=='Small' or self.getpizzatype()=='small':\n",
    "                Pizza.count+=1\n",
    "                self.serviceid = self.getpizzatype()[0]+str(Pizza.count)\n",
    "                return True\n",
    "            else:\n",
    "                return False\n",
    "    \n",
    "    def calculate_pizzacost(self):\n",
    "        if self.validate_pizzatype()==True:\n",
    "            d={'s':[150,35],'m':[200,50],'S':[150,35],'M':[200,50]}\n",
    "            if self.getadditional()==True:\n",
    "                self.setpizzacost(self.getquantity()*(d[self.getserviceid()[0]][0]+d[self.getserviceid()[0][0]][1]))\n",
    "            elif self.getadditional()==False:\n",
    "                self.setpizzacost(self.getquantity()*d[self.getserviceid()[0]][0])\n",
    "        "
   ]
  },
  {
   "cell_type": "code",
   "execution_count": 134,
   "id": "4cfba47c",
   "metadata": {},
   "outputs": [],
   "source": [
    "class DoorDelivery(Customer):\n",
    "    def __init__(self):\n",
    "        self.__distance = None\n",
    "        Pizza.__init__(self)\n",
    "        \n",
    "    def setdistance(self,distance):\n",
    "        self.__distance=distance\n",
    "    \n",
    "    def getdistance(self):\n",
    "        return self.__distance\n",
    "    \n",
    "    def validatedistance(self):\n",
    "        if self.getdistance()>=1 and self.getdistance()<=10:\n",
    "            return True\n",
    "        else:\n",
    "            return False\n",
    "    def calculate_pizzacost(self):\n",
    "        if self.validatedistance()==True and self.getdistance()<=5:\n",
    "            cost = Pizza.getpizzacost()+5\n",
    "        else:\n",
    "            cost = Pizza.getpizzacost()+10\n",
    "        Pizza.setpizzacost(self.cost)\n",
    "        print(Pizza.getpizzacost())"
   ]
  },
  {
   "cell_type": "code",
   "execution_count": 135,
   "id": "75ebcf33",
   "metadata": {},
   "outputs": [
    {
     "ename": "TypeError",
     "evalue": "validate_quantity() missing 1 required positional argument: 'self'",
     "output_type": "error",
     "traceback": [
      "\u001b[1;31m---------------------------------------------------------------------------\u001b[0m",
      "\u001b[1;31mTypeError\u001b[0m                                 Traceback (most recent call last)",
      "\u001b[1;32m<ipython-input-135-f0e8f191eff3>\u001b[0m in \u001b[0;36m<module>\u001b[1;34m\u001b[0m\n\u001b[0;32m      1\u001b[0m \u001b[0mpizza\u001b[0m \u001b[1;33m=\u001b[0m \u001b[0mPizza\u001b[0m\u001b[1;33m(\u001b[0m\u001b[1;33m)\u001b[0m\u001b[1;33m\u001b[0m\u001b[1;33m\u001b[0m\u001b[0m\n\u001b[0;32m      2\u001b[0m \u001b[0mpizza\u001b[0m\u001b[1;33m.\u001b[0m\u001b[0msetquantity\u001b[0m\u001b[1;33m(\u001b[0m\u001b[1;36m5\u001b[0m\u001b[1;33m)\u001b[0m\u001b[1;33m\u001b[0m\u001b[1;33m\u001b[0m\u001b[0m\n\u001b[1;32m----> 3\u001b[1;33m \u001b[0mpizza\u001b[0m\u001b[1;33m.\u001b[0m\u001b[0mcalculate_pizzacost\u001b[0m\u001b[1;33m(\u001b[0m\u001b[1;33m)\u001b[0m\u001b[1;33m\u001b[0m\u001b[1;33m\u001b[0m\u001b[0m\n\u001b[0m",
      "\u001b[1;32m<ipython-input-129-2a09bb8060d5>\u001b[0m in \u001b[0;36mcalculate_pizzacost\u001b[1;34m(self)\u001b[0m\n\u001b[0;32m     41\u001b[0m \u001b[1;33m\u001b[0m\u001b[0m\n\u001b[0;32m     42\u001b[0m     \u001b[1;32mdef\u001b[0m \u001b[0mcalculate_pizzacost\u001b[0m\u001b[1;33m(\u001b[0m\u001b[0mself\u001b[0m\u001b[1;33m)\u001b[0m\u001b[1;33m:\u001b[0m\u001b[1;33m\u001b[0m\u001b[1;33m\u001b[0m\u001b[0m\n\u001b[1;32m---> 43\u001b[1;33m         \u001b[1;32mif\u001b[0m \u001b[0mself\u001b[0m\u001b[1;33m.\u001b[0m\u001b[0mvalidate_pizzatype\u001b[0m\u001b[1;33m(\u001b[0m\u001b[1;33m)\u001b[0m\u001b[1;33m==\u001b[0m\u001b[1;32mTrue\u001b[0m\u001b[1;33m:\u001b[0m\u001b[1;33m\u001b[0m\u001b[1;33m\u001b[0m\u001b[0m\n\u001b[0m\u001b[0;32m     44\u001b[0m             \u001b[0md\u001b[0m\u001b[1;33m=\u001b[0m\u001b[1;33m{\u001b[0m\u001b[1;34m's'\u001b[0m\u001b[1;33m:\u001b[0m\u001b[1;33m[\u001b[0m\u001b[1;36m150\u001b[0m\u001b[1;33m,\u001b[0m\u001b[1;36m35\u001b[0m\u001b[1;33m]\u001b[0m\u001b[1;33m,\u001b[0m\u001b[1;34m'm'\u001b[0m\u001b[1;33m:\u001b[0m\u001b[1;33m[\u001b[0m\u001b[1;36m200\u001b[0m\u001b[1;33m,\u001b[0m\u001b[1;36m50\u001b[0m\u001b[1;33m]\u001b[0m\u001b[1;33m,\u001b[0m\u001b[1;34m'S'\u001b[0m\u001b[1;33m:\u001b[0m\u001b[1;33m[\u001b[0m\u001b[1;36m150\u001b[0m\u001b[1;33m,\u001b[0m\u001b[1;36m35\u001b[0m\u001b[1;33m]\u001b[0m\u001b[1;33m,\u001b[0m\u001b[1;34m'M'\u001b[0m\u001b[1;33m:\u001b[0m\u001b[1;33m[\u001b[0m\u001b[1;36m200\u001b[0m\u001b[1;33m,\u001b[0m\u001b[1;36m50\u001b[0m\u001b[1;33m]\u001b[0m\u001b[1;33m}\u001b[0m\u001b[1;33m\u001b[0m\u001b[1;33m\u001b[0m\u001b[0m\n\u001b[0;32m     45\u001b[0m             \u001b[1;32mif\u001b[0m \u001b[0mself\u001b[0m\u001b[1;33m.\u001b[0m\u001b[0mgetadditional\u001b[0m\u001b[1;33m(\u001b[0m\u001b[1;33m)\u001b[0m\u001b[1;33m==\u001b[0m\u001b[1;32mTrue\u001b[0m\u001b[1;33m:\u001b[0m\u001b[1;33m\u001b[0m\u001b[1;33m\u001b[0m\u001b[0m\n",
      "\u001b[1;32m<ipython-input-129-2a09bb8060d5>\u001b[0m in \u001b[0;36mvalidate_pizzatype\u001b[1;34m(self)\u001b[0m\n\u001b[0;32m     28\u001b[0m \u001b[1;33m\u001b[0m\u001b[0m\n\u001b[0;32m     29\u001b[0m     \u001b[1;32mdef\u001b[0m \u001b[0mvalidate_pizzatype\u001b[0m\u001b[1;33m(\u001b[0m\u001b[0mself\u001b[0m\u001b[1;33m)\u001b[0m\u001b[1;33m:\u001b[0m\u001b[1;33m\u001b[0m\u001b[1;33m\u001b[0m\u001b[0m\n\u001b[1;32m---> 30\u001b[1;33m         \u001b[1;32mif\u001b[0m \u001b[0mCustomer\u001b[0m\u001b[1;33m.\u001b[0m\u001b[0mvalidate_quantity\u001b[0m\u001b[1;33m(\u001b[0m\u001b[1;33m)\u001b[0m\u001b[1;33m==\u001b[0m\u001b[1;32mTrue\u001b[0m\u001b[1;33m:\u001b[0m\u001b[1;33m\u001b[0m\u001b[1;33m\u001b[0m\u001b[0m\n\u001b[0m\u001b[0;32m     31\u001b[0m             \u001b[1;32mif\u001b[0m \u001b[0mself\u001b[0m\u001b[1;33m.\u001b[0m\u001b[0mgetpizzatype\u001b[0m\u001b[1;33m(\u001b[0m\u001b[1;33m)\u001b[0m\u001b[1;33m==\u001b[0m\u001b[1;34m'Medium'\u001b[0m \u001b[1;32mor\u001b[0m \u001b[0mself\u001b[0m\u001b[1;33m.\u001b[0m\u001b[0mgetpizzatype\u001b[0m\u001b[1;33m(\u001b[0m\u001b[1;33m)\u001b[0m\u001b[1;33m==\u001b[0m\u001b[1;34m'medium'\u001b[0m\u001b[1;33m:\u001b[0m\u001b[1;33m\u001b[0m\u001b[1;33m\u001b[0m\u001b[0m\n\u001b[0;32m     32\u001b[0m                 \u001b[0mPizza\u001b[0m\u001b[1;33m.\u001b[0m\u001b[0mcount\u001b[0m\u001b[1;33m+=\u001b[0m\u001b[1;36m1\u001b[0m\u001b[1;33m\u001b[0m\u001b[1;33m\u001b[0m\u001b[0m\n",
      "\u001b[1;31mTypeError\u001b[0m: validate_quantity() missing 1 required positional argument: 'self'"
     ]
    }
   ],
   "source": [
    "pizza = Pizza()\n",
    "pizza.setquantity(5)\n",
    "pizza.calculate_pizzacost()"
   ]
  },
  {
   "cell_type": "code",
   "execution_count": 117,
   "id": "6fb3eb9a",
   "metadata": {},
   "outputs": [
    {
     "ename": "TypeError",
     "evalue": "getpizzacost() missing 1 required positional argument: 'self'",
     "output_type": "error",
     "traceback": [
      "\u001b[1;31m---------------------------------------------------------------------------\u001b[0m",
      "\u001b[1;31mTypeError\u001b[0m                                 Traceback (most recent call last)",
      "\u001b[1;32m<ipython-input-117-b6e7ed73b32d>\u001b[0m in \u001b[0;36m<module>\u001b[1;34m\u001b[0m\n\u001b[1;32m----> 1\u001b[1;33m \u001b[0md\u001b[0m\u001b[1;33m.\u001b[0m\u001b[0mcalculate_pizzacost\u001b[0m\u001b[1;33m(\u001b[0m\u001b[1;33m)\u001b[0m\u001b[1;33m\u001b[0m\u001b[1;33m\u001b[0m\u001b[0m\n\u001b[0m",
      "\u001b[1;32m<ipython-input-115-8b4de379b0f7>\u001b[0m in \u001b[0;36mcalculate_pizzacost\u001b[1;34m(self)\u001b[0m\n\u001b[0;32m     17\u001b[0m     \u001b[1;32mdef\u001b[0m \u001b[0mcalculate_pizzacost\u001b[0m\u001b[1;33m(\u001b[0m\u001b[0mself\u001b[0m\u001b[1;33m)\u001b[0m\u001b[1;33m:\u001b[0m\u001b[1;33m\u001b[0m\u001b[1;33m\u001b[0m\u001b[0m\n\u001b[0;32m     18\u001b[0m         \u001b[1;32mif\u001b[0m \u001b[0mself\u001b[0m\u001b[1;33m.\u001b[0m\u001b[0mvalidatedistance\u001b[0m\u001b[1;33m(\u001b[0m\u001b[1;33m)\u001b[0m\u001b[1;33m==\u001b[0m\u001b[1;32mTrue\u001b[0m \u001b[1;32mand\u001b[0m \u001b[0mself\u001b[0m\u001b[1;33m.\u001b[0m\u001b[0mgetdistance\u001b[0m\u001b[1;33m(\u001b[0m\u001b[1;33m)\u001b[0m\u001b[1;33m<=\u001b[0m\u001b[1;36m5\u001b[0m\u001b[1;33m:\u001b[0m\u001b[1;33m\u001b[0m\u001b[1;33m\u001b[0m\u001b[0m\n\u001b[1;32m---> 19\u001b[1;33m             \u001b[0mcost\u001b[0m \u001b[1;33m=\u001b[0m \u001b[0mPizza\u001b[0m\u001b[1;33m.\u001b[0m\u001b[0mgetpizzacost\u001b[0m\u001b[1;33m(\u001b[0m\u001b[1;33m)\u001b[0m\u001b[1;33m+\u001b[0m\u001b[1;36m5\u001b[0m\u001b[1;33m\u001b[0m\u001b[1;33m\u001b[0m\u001b[0m\n\u001b[0m\u001b[0;32m     20\u001b[0m         \u001b[1;32melse\u001b[0m\u001b[1;33m:\u001b[0m\u001b[1;33m\u001b[0m\u001b[1;33m\u001b[0m\u001b[0m\n\u001b[0;32m     21\u001b[0m             \u001b[0mcost\u001b[0m \u001b[1;33m=\u001b[0m \u001b[0mPizza\u001b[0m\u001b[1;33m.\u001b[0m\u001b[0mgetpizzacost\u001b[0m\u001b[1;33m(\u001b[0m\u001b[1;33m)\u001b[0m\u001b[1;33m+\u001b[0m\u001b[1;36m10\u001b[0m\u001b[1;33m\u001b[0m\u001b[1;33m\u001b[0m\u001b[0m\n",
      "\u001b[1;31mTypeError\u001b[0m: getpizzacost() missing 1 required positional argument: 'self'"
     ]
    }
   ],
   "source": []
  },
  {
   "cell_type": "code",
   "execution_count": null,
   "id": "031b3117",
   "metadata": {},
   "outputs": [],
   "source": []
  }
 ],
 "metadata": {
  "kernelspec": {
   "display_name": "Python 3",
   "language": "python",
   "name": "python3"
  },
  "language_info": {
   "codemirror_mode": {
    "name": "ipython",
    "version": 3
   },
   "file_extension": ".py",
   "mimetype": "text/x-python",
   "name": "python",
   "nbconvert_exporter": "python",
   "pygments_lexer": "ipython3",
   "version": "3.8.8"
  }
 },
 "nbformat": 4,
 "nbformat_minor": 5
}
