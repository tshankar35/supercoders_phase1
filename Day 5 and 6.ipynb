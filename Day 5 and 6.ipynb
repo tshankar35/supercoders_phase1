{
 "cells": [
  {
   "cell_type": "markdown",
   "id": "6664447b",
   "metadata": {},
   "source": [
    "# Day 5 and 6"
   ]
  },
  {
   "cell_type": "markdown",
   "id": "aa7e2ef3",
   "metadata": {},
   "source": [
    "### WeCare Insurance company wants to calculate premium of vehicles.\n",
    "Vehicles are of two types - \"Two Wheeler\", \"Four Wheeler\"\n",
    "Each vehicle is identified by `vehicle id, type, cost and premium amount`\n",
    "Premium amount is 2% of the vehicle cost for two wheelers and 6% of vehicle cost for four wheelers\n",
    "\n",
    "Calculate the premium amount and display the vehicle details.\n",
    "Write a Python Program to implement the class chosen with its attributes and methods\n",
    "\n",
    "Consider all instance variables to be private and methods to be public\n",
    "Include getter and setter methods for all instance variables\n",
    "Display appropriate error, if the vehicle type is not correct"
   ]
  },
  {
   "cell_type": "code",
   "execution_count": 78,
   "id": "7c40cad6",
   "metadata": {},
   "outputs": [],
   "source": [
    "class WeCare:\n",
    "    def __init__(self):\n",
    "        self.__id = None\n",
    "        self.__type = None\n",
    "        self.__cost = None\n",
    "        self.__premium = None\n",
    "     \n",
    "    #Setter Function\n",
    "    def setID(self,ID):\n",
    "        self.__id = ID\n",
    "    def setType(self,Type):\n",
    "        self.__type= Type\n",
    "    def setCost(self,Cost):\n",
    "        self.__cost = Cost\n",
    "    def setPremium(self,prem):\n",
    "        self.__premium = prem\n",
    "        \n",
    "    def calculatepremium(self):\n",
    "        if self.__type=='Two Wheeler':\n",
    "            pre = (self.__cost*0.02)\n",
    "        elif self.__type=='Four Wheeler':\n",
    "            pre = (self.__cost*0.06)\n",
    "        else:\n",
    "            pre=-1\n",
    "        self.setPremium(pre)\n",
    "    \n",
    "    #Getter Function\n",
    "    def getID(self):\n",
    "        return self.__id\n",
    "    def getType(self):\n",
    "        return self.__type\n",
    "    def getCost(self):\n",
    "        return self.__cost\n",
    "    def getPremium(self):\n",
    "        return self.__premium\n",
    "        \n",
    "    def display(self):\n",
    "        if self.__premium != -1:\n",
    "            print(\"ID: {}, Type: {}, Cost: {}, Premium:{}\".format(self.getID(),self.getType(),self.getCost(),self.getPremium()))\n",
    "        else:\n",
    "            print(\"Invalid Vehicle Details\")"
   ]
  },
  {
   "cell_type": "code",
   "execution_count": 79,
   "id": "60ec15b0",
   "metadata": {},
   "outputs": [
    {
     "data": {
      "text/plain": [
       "1264789065488"
      ]
     },
     "execution_count": 79,
     "metadata": {},
     "output_type": "execute_result"
    }
   ],
   "source": [
    "ob= WeCare()\n",
    "ob.setID(101)\n",
    "ob.setType(\"Two Wheeler\")\n",
    "ob.setCost(10000)\n",
    "id(ob)"
   ]
  },
  {
   "cell_type": "code",
   "execution_count": 80,
   "id": "bb39b546",
   "metadata": {},
   "outputs": [
    {
     "name": "stdout",
     "output_type": "stream",
     "text": [
      "ID: 101, Type: Two Wheeler, Cost: 10000, Premium:200.0\n"
     ]
    }
   ],
   "source": [
    "ob.calculatepremium()\n",
    "ob.display()"
   ]
  },
  {
   "cell_type": "markdown",
   "id": "cb9a729a",
   "metadata": {},
   "source": [
    "### A University wants to automate their admission process. Students are admitted based on marks according to a qualifying exams.\n",
    "\n",
    "A Student is identified by studentid, age and marks in qualifying exam\n",
    "\n",
    "Data is valid, if:\n",
    "  * Age is greater than 20\n",
    "  * Marks is between 0 and 100\n",
    "\n",
    "A Student qualifies for the admission if:\n",
    "  * Age and Marks are Valid\n",
    "  * Marks is greater than 65\n",
    "\n",
    "Rules to Follow:\n",
    "Class Name: Student\n",
    "-- Attributes: (private)\n",
    "   * student_id\n",
    "   * marks\n",
    "   * age\n",
    "\n",
    "Methods:\n",
    "(public)\n",
    "* __init__()\n",
    "* validate_marks()\n",
    "* validate_age()\n",
    "* check_qualification()\n",
    "    If So Return True\n",
    "    Else Return False\n",
    "    \n",
    "* setter methods for all instance variables\n",
    "* getter methods for all instance variables\n",
    "\n",
    "Continuing with the previous scenario, a student eligbile for admission has to choose a course and pay the fees for it. If they have scored more than 85 marks in qualifying exam, they get a 25% discount on the fees.\n"
   ]
  },
  {
   "cell_type": "code",
   "execution_count": 112,
   "id": "0b1388d2",
   "metadata": {},
   "outputs": [],
   "source": [
    "class Student:\n",
    "    def __init__(self):\n",
    "        self.__marks=None\n",
    "        self.__age=None\n",
    "        self.__courseid = None\n",
    "        \n",
    "    #setter function\n",
    "    def setage(self,age):\n",
    "        self.__age=age\n",
    "    def setmarks(self,marks):\n",
    "        self.__marks=marks\n",
    "    def setcourseid(self,courseid):\n",
    "        self.__courseid=courseid\n",
    "    \n",
    "    #getter function\n",
    "    def getage(self):\n",
    "        return self.__age\n",
    "    def getmarks(self):\n",
    "        return self.__marks\n",
    "    def getcourseid(self):\n",
    "        return self.__courseid\n",
    "    \n",
    "    #validate_marks\n",
    "    def validate_marks(self):\n",
    "        if self.getmarks()>0 and self.getmarks()<100:\n",
    "            return True\n",
    "        else:\n",
    "            return False\n",
    "    \n",
    "    #validate_age()\n",
    "    def validate_age(self):\n",
    "        if self.getage()>20:\n",
    "            return True\n",
    "        else:\n",
    "            return False\n",
    "        \n",
    "    #check_elgibility\n",
    "    def check_eligibility(self):\n",
    "        if self.validate_age() == True and self.validate_marks()==True:\n",
    "            if self.getmarks()>65:\n",
    "                print(\"True\")\n",
    "                print(self.fees())\n",
    "            else:\n",
    "                return False\n",
    "        else:\n",
    "            return False\n",
    "\n",
    "    def fees(self):\n",
    "        d={1001:25575,1002:15500}\n",
    "        if self.getmarks()>85:\n",
    "            try:\n",
    "                return \"25% Discounted Fees: \"+str(d[self.getcourseid()]*0.75)\n",
    "            except:\n",
    "                return \"Invalid Course ID\"\n",
    "        else:\n",
    "            return \"Fees to Pay: \"+str(d[self.getcourseid()])"
   ]
  },
  {
   "cell_type": "code",
   "execution_count": 113,
   "id": "fc55dd9c",
   "metadata": {},
   "outputs": [],
   "source": [
    "ob = Student()"
   ]
  },
  {
   "cell_type": "code",
   "execution_count": 115,
   "id": "4724a058",
   "metadata": {},
   "outputs": [
    {
     "name": "stdout",
     "output_type": "stream",
     "text": [
      "True\n",
      "25% Discounted Fees: 11625.0\n"
     ]
    }
   ],
   "source": [
    "ob.setage(22)\n",
    "ob.setmarks(88)\n",
    "ob.setcourseid(1002)\n",
    "ob.check_eligibility()"
   ]
  },
  {
   "cell_type": "markdown",
   "id": "13f9e245",
   "metadata": {},
   "source": [
    "### Pizza for You is a pizza store which sells different kinds of pizzas based on customer's order. Customer can either collect the order in person or opt for a door delivery. Write a python program based on the class diagram given below\n",
    "\n",
    "### Rules to follow\n",
    "Customer Class:\n",
    "   * validate_quantity() -  Customer can order 1 to 5 pizzas. If valid return true, else return false\n",
    "   \n",
    "PizzaService Class:\n",
    "   * Initialise static variable counter to 100\n",
    "   Attribute\n",
    "   * additional_topping is a boolean value which indicates whether additional topping is required or not, True if required. False, if not required\n",
    "   * validate_pizza_type() - Customers can order small or medium type pizzas. If valid return True else return False\n",
    "   * calculate_pizza_cost() - Calculate Pizza Cost, validate type and quantity\n",
    "                 - If valid, Identify the pizza cost based on the details mentioned belw in the table\n",
    "                 - Set attribute pizza cost with calculated pizza cost\n",
    "                 - Autogenerate service_id based starting from 101 by first letter of pizza type\n",
    "                             - Example - S101, s102, m103, S104, M105 etc.\n",
    "                 - If Invalid set pizza cost to -1\n",
    "- Pizza Type | Cost | Additional Topping Cost\n",
    "- Small      | 150  |  35\n",
    "- Medium     |  200 |  50\n",
    "\n",
    "DoorDelivery Class:\n",
    "* validate_distance_in_kms() - Minimum distance for door delivery is 1km and maximum is 10km\n",
    "                             - If valid, return true, else return false\n",
    "* caclulate_pizza_cost() - Calculate pizza cost\n",
    "Validate Distance in kms\n",
    "if valid,\n",
    "Calculate pizza cost (Hint: Invoke Overriden Method in Parent Class)\n",
    "If pizza_cost is not -1 identify the delivery charge based on the details\n",
    "\n",
    "Distance in kms Delivery charge in km \n",
    "For first 5km      5\n",
    "For remaining 5km  7\n",
    "Else set pizza_cost to  -1\n",
    "\n",
    "Perform case insensitive string comparision\n",
    "For testing:\n",
    "Create objects of PizzaService and Doordelivery Class\n",
    "Invoke calculate_pizza_cost() on Pizzaservice and DoorDelivery\n",
    "Display the details"
   ]
  },
  {
   "cell_type": "code",
   "execution_count": 1,
   "id": "2b9dbfbe",
   "metadata": {},
   "outputs": [],
   "source": [
    "class Customer:\n",
    "    def __init__(self):\n",
    "        self.quantity = None\n",
    "    def getquantity(self):\n",
    "        return self.quantity\n",
    "    def setquantity(self,quantity):\n",
    "        self.quantity = quantity\n",
    "    def validate_quantity(self):\n",
    "        if self.getquantity()>=1 and self.getquantity()<=5:\n",
    "            return True\n",
    "        else:\n",
    "            return False"
   ]
  },
  {
   "cell_type": "code",
   "execution_count": 224,
   "id": "fcf4a981",
   "metadata": {},
   "outputs": [],
   "source": [
    "class Pizza(Customer):\n",
    "    count=100\n",
    "    def __init__(self):\n",
    "        self.__additional = None\n",
    "        self.__pizzatype = None\n",
    "        self.pizzacost = None\n",
    "        self.serviceid = None\n",
    "        Customer.__init__(self)\n",
    "    \n",
    "    def setadditional(self,additional):\n",
    "        self.__additional = additional\n",
    "    def setptype(self,ptype):\n",
    "        self.__pizzatype = ptype\n",
    "    def setserviceid(self, serviceid):\n",
    "        self.serviceid = serviceid\n",
    "    def setpizzacost(self,cost):\n",
    "        self.pizzacost = cost\n",
    "    \n",
    "    def getadditional(self):\n",
    "        return self.__additional\n",
    "    def getpizzatype(self):\n",
    "        return self.__pizzatype\n",
    "    def getserviceid(self):\n",
    "        return self.serviceid\n",
    "    def getpizzacost(self):\n",
    "        return self.pizzacost\n",
    "    \n",
    "    \n",
    "    def validate_pizzatype(self):\n",
    "        if super().validate_quantity()==True:\n",
    "            if self.getpizzatype()=='Medium' or self.getpizzatype()=='medium':\n",
    "                Pizza.count+=1\n",
    "                self.serviceid = self.getpizzatype()[0]+str(Pizza.count)\n",
    "                return True\n",
    "            elif self.getpizzatype()=='Small' or self.getpizzatype()=='small':\n",
    "                Pizza.count+=1\n",
    "                self.serviceid = self.getpizzatype()[0]+str(Pizza.count)\n",
    "                return True\n",
    "            else:\n",
    "                return False\n",
    "    \n",
    "    def calculate_pizzacost(self):\n",
    "        if self.validate_pizzatype()==True:\n",
    "            d={'s':[150,35],'m':[200,50],'S':[150,35],'M':[200,50]}\n",
    "            if self.getadditional()==True:\n",
    "                self.setpizzacost(self.getquantity()*(d[self.getserviceid()[0]][0]+d[self.getserviceid()[0][0]][1]))\n",
    "            elif self.getadditional()==False:\n",
    "                self.setpizzacost(self.getquantity()*d[self.getserviceid()[0]][0])"
   ]
  },
  {
   "cell_type": "code",
   "execution_count": 235,
   "id": "4cfba47c",
   "metadata": {},
   "outputs": [],
   "source": [
    "class DoorDelivery(Pizza,Customer):\n",
    "    def __init__(self):\n",
    "        self.__distance = None\n",
    "        self.cost=None\n",
    "        Pizza.__init__(self)\n",
    "        Customer.__init__(self)\n",
    "        \n",
    "    def setdistance(self,distance):\n",
    "        self.__distance=distance\n",
    "    \n",
    "    def getdistance(self):\n",
    "        return self.__distance\n",
    "    \n",
    "    def getpizzacost(self):\n",
    "        return super().getpizzacost()\n",
    "    \n",
    "    def validatedistance(self):\n",
    "        if self.getdistance()>=1 and self.getdistance()<=10:\n",
    "            return True\n",
    "        else:\n",
    "            return False\n",
    "    def calculate_pizzacost(self):\n",
    "        super().calculate_pizzacost()\n",
    "        cost = super().getpizzacost()  \n",
    "        if self.getdistance()==None:\n",
    "            pass\n",
    "        elif self.validatedistance()==True and self.getdistance()<=5:\n",
    "            cost = cost + (self.getdistance()*5)\n",
    "        elif self.validatedistance()==True:\n",
    "            cost = cost + (self.getdistance()-5)*7 + (5*5)\n",
    "        super().setpizzacost(cost)\n",
    "        "
   ]
  },
  {
   "cell_type": "code",
   "execution_count": null,
   "id": "75ebcf33",
   "metadata": {},
   "outputs": [],
   "source": []
  },
  {
   "cell_type": "code",
   "execution_count": 237,
   "id": "6fb3eb9a",
   "metadata": {},
   "outputs": [
    {
     "data": {
      "text/plain": [
       "1000"
      ]
     },
     "execution_count": 237,
     "metadata": {},
     "output_type": "execute_result"
    }
   ],
   "source": [
    "door = DoorDelivery()\n",
    "door.setquantity(5)\n",
    "door.setptype('Medium')\n",
    "door.setadditional(False)\n",
    "door.calculate_pizzacost()\n",
    "door.getpizzacost()"
   ]
  },
  {
   "cell_type": "code",
   "execution_count": 244,
   "id": "031b3117",
   "metadata": {},
   "outputs": [
    {
     "data": {
      "text/plain": [
       "1025"
      ]
     },
     "execution_count": 244,
     "metadata": {},
     "output_type": "execute_result"
    }
   ],
   "source": [
    "door = DoorDelivery()\n",
    "door.setquantity(5)\n",
    "door.setptype('Medium')\n",
    "door.setadditional(False)\n",
    "door.setdistance(5)\n",
    "door.calculate_pizzacost()\n",
    "door.getpizzacost()"
   ]
  },
  {
   "cell_type": "markdown",
   "id": "dd617d1b",
   "metadata": {},
   "source": [
    "A bank has many customers and each customer has a bank account\n",
    "There are also privileged customers \n",
    "who can earn bonus points for each of their transaction. \n",
    "This scenario is depicted through the below class diagram.\n",
    "30 min\n",
    "\n",
    "Customer\n",
    "- customer_id\n",
    "- customer_name\n",
    "- age\n",
    "__init__(customer_id, customer_name, age, account)\n",
    "+ withdraw(amount)\n",
    "+ take_card()\n",
    "+ get_customer_id()\n",
    "+ get_customer_name()\n",
    "+ get_age()\n",
    "Account\n",
    "- account_type\n",
    "- balance\n",
    "- min_balance\n",
    "__init__(account_type,balance,min_balance)\n",
    "+ get_account_type()\n",
    "+ get_balance()\n",
    "+ get_min_balance()\n",
    "+ set_balance(balance)\n",
    "PrivilegedCustomer\n",
    "- bonus_points\n",
    "__init__ (customer_id, customer_name, age,\n",
    "bonus_points)\n",
    "+ withdraw(amount)\n",
    "+ get_bonus_points()\n",
    "- increase_bonus()\n",
    "OverdrawException\n",
    "LimitReachedException\n",
    "\n",
    "RULES TO FOLLOW\n",
    "================\n",
    "Customer:\n",
    "withdraw(amount): This method should reduce the account balance based on the amount withdrawn. \n",
    "Raise the following exceptions based on the given conditions.\n",
    "OverdrawException - If the amount to be withdrawn is greater than account balance.\n",
    "LimitReachedException - If the balance amount is less than minimum account balance.\n",
    "take_card(): Displays the message \"Take card out from the ATM\".\n",
    "PrivilegedCustomer:\n",
    "increase_bonus(): If the account balance is greater than 1000, increase the bonus points by 10, else increase it by 2.\n",
    "withdraw(amount): Invoke the parent class withdraw() method and increase the bonus points by calling increase_bonus() method, if no exceptions occured.\n",
    "If exceptions occur, display relevant messages. Ensure that the card is taken out from the ATM under any situation.\n",
    "\n",
    "Write a Python program to create a new PrivilegedCustomer with below details:\n",
    "Customer Id: 100\n",
    "Customer Name: Gopal\n",
    "Age: 43\n",
    "Bonus Points: 100\n",
    "Account Type: Savings\n",
    "Account Balance: 1000\n",
    "Account minimum: 500\n"
   ]
  },
  {
   "cell_type": "code",
   "execution_count": 300,
   "id": "c3254500",
   "metadata": {},
   "outputs": [],
   "source": [
    "class LimitReachedException(Exception):\n",
    "    \"Your Account Limit has Reached\"\n",
    "    pass\n",
    "\n",
    "class OverDrawException(Exception):\n",
    "    \"You are Overdrawing\"\n",
    "    pass"
   ]
  },
  {
   "cell_type": "code",
   "execution_count": 301,
   "id": "6352831e",
   "metadata": {},
   "outputs": [],
   "source": [
    "class Account:\n",
    "    def __init__(self,account_type,balance,min_balance):\n",
    "        self.__account_type = account_type\n",
    "        self.__balance = balance\n",
    "        self.__min_balance = min_balance\n",
    "        \n",
    "    def get_account_type(self):\n",
    "        return self.__account_type\n",
    "    def get_balance(self):\n",
    "        return self.__balance\n",
    "    def get_min_balance(self):\n",
    "        return self.__min_balance\n",
    "    \n",
    "    def set_balance(self,balance):\n",
    "        self.__balance = balance"
   ]
  },
  {
   "cell_type": "code",
   "execution_count": 307,
   "id": "faca6d35",
   "metadata": {},
   "outputs": [],
   "source": [
    "class Customer(Account,PriviledgeCustomer):\n",
    "    def __init__(self,customer_id, customer_name, age,account_type,balance,min_balance,bonus_points=None):\n",
    "        self.__customer_id = customer_id\n",
    "        self.__customer_name = customer_name\n",
    "        self.__age = age\n",
    "        Account.__init__(self,account_type,balance,min_balance)\n",
    "        PriviledgeCustomer.__init__(self,bonus_points,balance)\n",
    "        \n",
    "    def withdraw(self,amount):\n",
    "        try:\n",
    "            if super().get_balance() < super().get_min_balance():\n",
    "                raise LimitReachedException\n",
    "            elif amount>super().get_balance():\n",
    "                raise OverDrawException\n",
    "            else:\n",
    "                if super().getbonuspoints()==None:\n",
    "                    pass\n",
    "                else:\n",
    "                    super().increase_bonus()\n",
    "                super().set_balance(super().get_balance()-amount)\n",
    "        except OverDrawException:\n",
    "            print(\"You are OverDrawing\")\n",
    "        except LimitReachedException:\n",
    "            print(\"Account Limit Reached\")\n",
    "    \n",
    "    def take_card():\n",
    "        return \"Take out the card\"\n",
    "    \n",
    "    def get_customer_id(self):\n",
    "        return self.__customer_id\n",
    "    \n",
    "    def get_customer_name(self):\n",
    "        return self.__customer_name\n",
    "    \n",
    "    def get_age(self):\n",
    "        return self.__age"
   ]
  },
  {
   "cell_type": "code",
   "execution_count": 308,
   "id": "a58a55f5",
   "metadata": {},
   "outputs": [],
   "source": [
    "class PriviledgeCustomer:\n",
    "    def __init__(self,bonus_points,balance):\n",
    "        self.__bonus_points = bonus_points\n",
    "        self.__balance = balance    \n",
    "        \n",
    "    def getbonuspoints(self):\n",
    "        return self.__bonus_points\n",
    "    \n",
    "    \n",
    "    def increase_bonus(self):\n",
    "        if self.__balance>1000:\n",
    "            self.__bonus_points+=10\n",
    "        else:\n",
    "            self.__bonus_points+=2"
   ]
  },
  {
   "cell_type": "code",
   "execution_count": 309,
   "id": "5c36d718",
   "metadata": {},
   "outputs": [
    {
     "name": "stdout",
     "output_type": "stream",
     "text": [
      "Account Limit Reached\n",
      "400\n",
      "104\n"
     ]
    }
   ],
   "source": [
    "C = Customer(100,'Gopal',43,'Savings',1000,500,100)\n",
    "C.withdraw(100)\n",
    "C.withdraw(500)\n",
    "C.withdraw(100)\n",
    "print(C.get_balance())\n",
    "print(C.getbonuspoints())"
   ]
  },
  {
   "cell_type": "markdown",
   "id": "c6162ecf",
   "metadata": {},
   "source": [
    "An apparel shop wants to manage the items which it sells.25 min\n",
    "Write a python program to implement the class diagram given below.\n",
    "\n",
    "RULES TO FOLLOW\n",
    "===============\n",
    "Class Description:\n",
    "Apparel class:\n",
    "Initialize static variable counter to 100\n",
    "In the constructor, auto-generate item_id starting from 101 prefixed by \"C\" for cotton apparels and \"S\" for silk apparels. Example – C101, S102, S103, C104 etc.\n",
    "calculate_price(): Add 5% service tax on the price of the apparel and update attribute, price with the new value\n",
    "Cotton class:\n",
    "While invoking parent constructor from child constructor, pass \"Cotton\" as item_type\n",
    "calculate_price(): Update attribute, price of Apparel class based on rules given below\n",
    "Add service tax on price by invoking appropriate method of Apparel class\n",
    "Apply discount on price\n",
    "Add 5% VAT on final price\n",
    "Silk class:\n",
    "While invoking parent constructor from child constructor, pass \"Silk\" as item_type\n",
    "calculate_price(): Update attribute, price of Apparel class based on rules given below\n",
    "Add service tax on price by invoking appropriate method of Apparel class\n",
    "Identify points earned based on rules given below:\n",
    "Silk apparels with price more than Rs. 10000, earn 10 points and anything less than or equal to that earn 3 points\n",
    "Initialize attribute, points with the identified points\n",
    "Add 10% VAT on price\n",
    "Note: Perform case sensitive string comparison \n",
    "\n",
    "For testing:\n",
    "Create objects of Cotton class and Silk class\n",
    "Invoke calculate_price() on Cotton objects and Silk objects\n",
    "Display their details\n"
   ]
  },
  {
   "cell_type": "code",
   "execution_count": 49,
   "id": "81e008ac",
   "metadata": {},
   "outputs": [],
   "source": [
    "class Cotton:\n",
    "    def __init__(self,price):\n",
    "        self.__price=price\n",
    "        \n",
    "    def getprice(self):\n",
    "        return self.__price\n",
    "    def setprice(self,price):\n",
    "        self.__price=price\n",
    "    \n",
    "    def calculateprice(self):\n",
    "        self.setprice(self.getprice()*1.05)\n",
    "        \n",
    "class Silk:\n",
    "    def __init__(self,price):\n",
    "        self.__price = price\n",
    "    \n",
    "    def getprice(self):\n",
    "        return self.__price\n",
    "    def setprice(self,nprice):\n",
    "        self.__price=nprice\n",
    "        \n",
    "    def calculateprice(self):\n",
    "        price = self.getprice()*1.10\n",
    "        self.setprice(price)\n",
    "        \n",
    "class Apparel(Cotton,Silk):\n",
    "    count=100\n",
    "    def __init__(self,tye,price):\n",
    "        self.__type = tye\n",
    "        self.__item_id = tye[0]+str(Apparel.count)\n",
    "        self.__price = price\n",
    "        Apparel.count+=1\n",
    "        Cotton.__init__(self,price)\n",
    "        Silk.__init__(self,price)\n",
    "        \n",
    "    def getitemid(self):\n",
    "        return self.__item_id\n",
    "    \n",
    "    def calculateprice(self):\n",
    "        if self.getitemid()[0]=='C':\n",
    "            Cotton.calculateprice(self)\n",
    "        else:\n",
    "            Silk.calculateprice(self)\n",
    "        \n",
    "        "
   ]
  },
  {
   "cell_type": "code",
   "execution_count": 50,
   "id": "887a88d4",
   "metadata": {},
   "outputs": [
    {
     "data": {
      "text/plain": [
       "1050.0"
      ]
     },
     "execution_count": 50,
     "metadata": {},
     "output_type": "execute_result"
    }
   ],
   "source": [
    "i1 = Apparel('Cotton',1000)\n",
    "i1.calculateprice()\n",
    "i1.getprice()"
   ]
  },
  {
   "cell_type": "code",
   "execution_count": 51,
   "id": "72adbac5",
   "metadata": {},
   "outputs": [
    {
     "data": {
      "text/plain": [
       "2200.0"
      ]
     },
     "execution_count": 51,
     "metadata": {},
     "output_type": "execute_result"
    }
   ],
   "source": [
    "i2 = Apparel('Silk',2000)\n",
    "i2.calculateprice()\n",
    "i2.getprice()"
   ]
  },
  {
   "cell_type": "code",
   "execution_count": null,
   "id": "a31dbec0",
   "metadata": {},
   "outputs": [],
   "source": []
  }
 ],
 "metadata": {
  "kernelspec": {
   "display_name": "Python 3",
   "language": "python",
   "name": "python3"
  },
  "language_info": {
   "codemirror_mode": {
    "name": "ipython",
    "version": 3
   },
   "file_extension": ".py",
   "mimetype": "text/x-python",
   "name": "python",
   "nbconvert_exporter": "python",
   "pygments_lexer": "ipython3",
   "version": "3.8.8"
  }
 },
 "nbformat": 4,
 "nbformat_minor": 5
}
