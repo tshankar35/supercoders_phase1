{
 "cells": [
  {
   "cell_type": "markdown",
   "id": "2dbba87f",
   "metadata": {},
   "source": [
    "# 14 LPA Questions"
   ]
  },
  {
   "cell_type": "markdown",
   "id": "588fc8a0",
   "metadata": {},
   "source": [
    "### String Rotation\n",
    "#### input -> rhdt:246, ghftd:1246\n",
    "\n",
    "#### If sum of squares of digit is even then rotate the string right by 1, if sum of square of digits is odd then rotate the string left by 2 position\n",
    "\n",
    "> Input\n",
    "\n",
    "> 2 * 2 + 4 * 4 + 6 * 6 = 56 which is even so rotate rhdt=trhd\n",
    "\n",
    ">1 * 1 + 2 * 2 + 4 * 4 + 6 * 6 = 57 which is odd so rotate left by 2"
   ]
  },
  {
   "cell_type": "code",
   "execution_count": 2,
   "id": "9dd6dbc8",
   "metadata": {},
   "outputs": [
    {
     "name": "stdout",
     "output_type": "stream",
     "text": [
      "rhdt:246\n"
     ]
    },
    {
     "data": {
      "text/plain": [
       "'trhd'"
      ]
     },
     "execution_count": 2,
     "metadata": {},
     "output_type": "execute_result"
    }
   ],
   "source": [
    "s = list(input().split(':'))\n",
    "st = lambda s: s[0][-1]+s[0][:-1] if (sum([int(x)**2 for x in s[1]])%2==0)  else s[0][2:]+s[0][:2]\n",
    "st(s)"
   ]
  },
  {
   "cell_type": "markdown",
   "id": "adbb4573",
   "metadata": {},
   "source": [
    "### Write a python function, find_correct() which accepts a dictionary and returns a list per rules mentioned below\n",
    "\n",
    "1. Correct if it is an exact match\n",
    "2. Almost Correct if no more than 2 letters are wrong\n",
    "3. Wrong if more than 2 letters are wrong"
   ]
  },
  {
   "cell_type": "code",
   "execution_count": 3,
   "id": "3eab502c",
   "metadata": {},
   "outputs": [],
   "source": [
    "def find_correct(d):\n",
    "    l=[0,0,0]\n",
    "    for key in d.keys():\n",
    "        if key==d[key]:\n",
    "            l[0]+=1\n",
    "        else:\n",
    "            if len(key)==len(d[key]):\n",
    "                c = 0\n",
    "                for i in range(len(key)):\n",
    "                        if key[i]!=d[key][i]:\n",
    "                            c+=1\n",
    "                if c<=2:\n",
    "                    l[1]+=1\n",
    "                else:\n",
    "                    l[2]+=1\n",
    "            else:\n",
    "                l[2]+=1\n",
    "    print(l)"
   ]
  },
  {
   "cell_type": "code",
   "execution_count": 4,
   "id": "05392b96",
   "metadata": {},
   "outputs": [
    {
     "name": "stdout",
     "output_type": "stream",
     "text": [
      "[2, 2, 1]\n"
     ]
    }
   ],
   "source": [
    "find_correct({'THEIR':'THEIR','BUSINESS':'BISINESS','WINDOWS':'WINDMILL','WERE':'WEAR','SAMPLE':'SAMPLE'})"
   ]
  },
  {
   "cell_type": "markdown",
   "id": "a6c4b1ea",
   "metadata": {},
   "source": [
    "### Q. Find the largest common substring in 2 words"
   ]
  },
  {
   "cell_type": "code",
   "execution_count": 5,
   "id": "b29e1762",
   "metadata": {},
   "outputs": [],
   "source": [
    "def largest_common_substring(word1,word2):\n",
    "    arr = [i for i in range(0,len(word1))]\n",
    "    arr = [word1[i:j+1] for i in range(len(arr)) for j in range(i,len(arr))]\n",
    "    arr2 = [i for i in range(0,len(word2))]\n",
    "    arr2 = [word2[i:j+1] for i in range(len(arr2)) for j in range(i,len(arr2))]\n",
    "    l={}\n",
    "    for c in arr:\n",
    "        if c in arr2:\n",
    "            l[len(c)]=c\n",
    "    print(l[max(l.keys())])\n",
    "    "
   ]
  },
  {
   "cell_type": "code",
   "execution_count": 6,
   "id": "7156e51c",
   "metadata": {},
   "outputs": [
    {
     "name": "stdout",
     "output_type": "stream",
     "text": [
      "abcdef\n"
     ]
    }
   ],
   "source": [
    "largest_common_substring('abcdefg','abcdef')"
   ]
  },
  {
   "cell_type": "markdown",
   "id": "70bea663",
   "metadata": {},
   "source": [
    "### Matrix Addition using List Comprehension"
   ]
  },
  {
   "cell_type": "code",
   "execution_count": 9,
   "id": "957d66eb",
   "metadata": {},
   "outputs": [
    {
     "data": {
      "text/plain": [
       "[[2, 4, 6, 8], [10, 12, 14, 16], [18, 20, 22, 24], [26, 28, 30, 32]]"
      ]
     },
     "execution_count": 9,
     "metadata": {},
     "output_type": "execute_result"
    }
   ],
   "source": [
    "mat = [[1,2,3,4],[5,6,7,8],[9,10,11,12],[13,14,15,16]]\n",
    "mat2 = [[1,2,3,4],[5,6,7,8],[9,10,11,12],[13,14,15,16]]\n",
    "[[mat[i][j]+mat2[i][j] for j in range(len(mat))]for i in range(len(mat[0])) ]"
   ]
  },
  {
   "cell_type": "markdown",
   "id": "bc4812f0",
   "metadata": {},
   "source": [
    "### Matrix Multiplication using List Comprehension"
   ]
  },
  {
   "cell_type": "code",
   "execution_count": 10,
   "id": "5b2b232d",
   "metadata": {},
   "outputs": [
    {
     "data": {
      "text/plain": [
       "[[2, 4, 6, 8, 11, 14, 17, 20, 28, 32, 36, 40, 53, 58, 63, 68],\n",
       " [10, 16, 22, 28, 35, 42, 49, 56, 68, 76, 84, 92, 109, 118, 127, 136],\n",
       " [18, 28, 38, 48, 59, 70, 81, 92, 108, 120, 132, 144, 165, 178, 191, 204],\n",
       " [26, 40, 54, 68, 83, 98, 113, 128, 148, 164, 180, 196, 221, 238, 255, 272]]"
      ]
     },
     "execution_count": 10,
     "metadata": {},
     "output_type": "execute_result"
    }
   ],
   "source": [
    "[[mat[i][j]+(mat2[k][j]*mat[i][k]) for k in range(len(mat2)) for j in range(len(mat2[0]))]for i in range(len(mat))]"
   ]
  },
  {
   "cell_type": "markdown",
   "id": "31f2522b",
   "metadata": {},
   "source": [
    "### A 10-Substring of a number is a substring of its digits that sum up to 10.\n",
    "\n",
    "#### Write a Python function, find_ten_substring(num_str) which accepts a string and returns the list of 10-substrings of that string\n",
    "\n",
    "#### Handle the possible errors in the code written inside the function\n",
    "\n",
    "> ##### Sample Input\n",
    ">> '3523014'\n",
    "\n",
    "> ##### Expected Output\n",
    ">> ['5230','23014','523','352']\n",
    " "
   ]
  },
  {
   "cell_type": "code",
   "execution_count": 22,
   "id": "e0d3b13f",
   "metadata": {},
   "outputs": [],
   "source": [
    "def find_ten_substring(num_str):\n",
    "    arr = [i for i in range(len(num_str))]\n",
    "    arr = [num_str[i:j+1] for i in range(len(arr)) for j in range(i,len(arr))]\n",
    "    res=[]\n",
    "    for ele in arr:\n",
    "        l = list(map(int,list(ele)))\n",
    "        if sum(l)==10:\n",
    "            res.append(ele)\n",
    "    return res"
   ]
  },
  {
   "cell_type": "code",
   "execution_count": 23,
   "id": "ad1334bd",
   "metadata": {},
   "outputs": [
    {
     "data": {
      "text/plain": [
       "['352', '523', '5230', '23014']"
      ]
     },
     "execution_count": 23,
     "metadata": {},
     "output_type": "execute_result"
    }
   ],
   "source": [
    "find_ten_substring('3523014')"
   ]
  },
  {
   "cell_type": "markdown",
   "id": "800dc11e",
   "metadata": {},
   "source": [
    "### Given the amount and denomination list, write a recursive python function to find and return the number of ways in which the change can be provided for the speicifed amount using the given denomination list\n",
    "\n",
    "### Assume that there are more than one note available for each amount in the denomination list\n",
    "\n",
    "\n",
    "#### Sample Input ->\n",
    "#### amount  = 4          denomination = [1,2,3]\n",
    "\n",
    "#### Sample Output ->\n",
    "#### 4"
   ]
  },
  {
   "cell_type": "code",
   "execution_count": 45,
   "id": "5452058d",
   "metadata": {},
   "outputs": [
    {
     "name": "stdout",
     "output_type": "stream",
     "text": [
      "[0, 1, 2]\n"
     ]
    }
   ],
   "source": [
    "denomination = [1,2,3]\n",
    "arr = [ i for i in range(len(denomination))]\n",
    "print(arr)\n",
    "arr = [denomination[i:j+1] for i in range(0,len(arr)) for j in range(i,len(arr))]"
   ]
  },
  {
   "cell_type": "code",
   "execution_count": 51,
   "id": "29f5f38b",
   "metadata": {},
   "outputs": [],
   "source": [
    "from itertools import combinations\n",
    "l1=[]\n",
    "for i in range(1,len(denomination)+1):\n",
    "    l  = list(combinations(denomination,i))\n",
    "    l1+=l"
   ]
  },
  {
   "cell_type": "code",
   "execution_count": 54,
   "id": "d03e2830",
   "metadata": {},
   "outputs": [],
   "source": [
    "l2 = [sum(x) for x in l1]"
   ]
  },
  {
   "cell_type": "code",
   "execution_count": 56,
   "id": "7840bdb1",
   "metadata": {},
   "outputs": [
    {
     "name": "stdout",
     "output_type": "stream",
     "text": [
      "[(1,), (2,), (3,), (1, 2), (1, 3), (2, 3), (1, 2, 3)]\n",
      "3\n"
     ]
    }
   ],
   "source": [
    "print(l1)\n",
    "cnt=0\n",
    "for ele in l2:\n",
    "    if amt%ele==0:\n",
    "        cnt+=1\n",
    "print(cnt)"
   ]
  },
  {
   "cell_type": "code",
   "execution_count": null,
   "id": "59c49509",
   "metadata": {},
   "outputs": [],
   "source": []
  }
 ],
 "metadata": {
  "kernelspec": {
   "display_name": "Python 3",
   "language": "python",
   "name": "python3"
  },
  "language_info": {
   "codemirror_mode": {
    "name": "ipython",
    "version": 3
   },
   "file_extension": ".py",
   "mimetype": "text/x-python",
   "name": "python",
   "nbconvert_exporter": "python",
   "pygments_lexer": "ipython3",
   "version": "3.8.8"
  }
 },
 "nbformat": 4,
 "nbformat_minor": 5
}
