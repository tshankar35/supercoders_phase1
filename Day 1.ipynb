{
 "cells": [
  {
   "cell_type": "markdown",
   "id": "325362b4",
   "metadata": {},
   "source": [
    "# Day 1- Python and OOPS"
   ]
  },
  {
   "cell_type": "markdown",
   "id": "3c45cca1",
   "metadata": {},
   "source": [
    "## Datatypes\n",
    "\n",
    "1.\tPython does not need datatypes to be specifically declared:  Dynamically Typed\n",
    "i.e., the type is decided during runtime.\n",
    "\n",
    "2.\ttype() function gives the class of datatype\n",
    "Eg: \n",
    "a = 5\n",
    "type(5)\n",
    " > <class ‘int’>\n",
    "\ta is an object of int class\n",
    "    \n",
    "1.\tTypes of data in python\n",
    "> 1. int\t\n",
    "> 2. float\n",
    "> 3. boolean\n",
    "> 4. string\n",
    "\n"
   ]
  },
  {
   "cell_type": "markdown",
   "id": "a3751f96",
   "metadata": {},
   "source": [
    "## Decision Making"
   ]
  },
  {
   "cell_type": "markdown",
   "id": "acabc107",
   "metadata": {},
   "source": [
    "### Fizzbuzz"
   ]
  },
  {
   "cell_type": "code",
   "execution_count": 2,
   "id": "caaa6574",
   "metadata": {},
   "outputs": [
    {
     "name": "stdout",
     "output_type": "stream",
     "text": [
      "3\n",
      "Multiple of 3 (Fizz)\n"
     ]
    }
   ],
   "source": [
    "n = int(input())\n",
    "if n%3 == 0 and n%5==0:\n",
    "    print(\"Both Multiple of 3 and 5 (FizzBuzz)\")\n",
    "elif n%3==0:\n",
    "    print(\"Multiple of 3 (Fizz)\")\n",
    "elif n%5==0:\n",
    "    print(\"Multiple of 5 (Buzz)\")\n",
    "else:\n",
    "    print(\"Invalid\")"
   ]
  },
  {
   "cell_type": "markdown",
   "id": "559d159a",
   "metadata": {},
   "source": [
    "## Looping"
   ]
  },
  {
   "cell_type": "markdown",
   "id": "1210bf8c",
   "metadata": {},
   "source": [
    "### Print 1 to 100 "
   ]
  },
  {
   "cell_type": "code",
   "execution_count": 4,
   "id": "fe632358",
   "metadata": {},
   "outputs": [
    {
     "name": "stdout",
     "output_type": "stream",
     "text": [
      "[1, 2, 3, 4, 5, 6, 7, 8, 9, 10, 11, 12, 13, 14, 15, 16, 17, 18, 19, 20, 21, 22, 23, 24, 25, 26, 27, 28, 29, 30, 31, 32, 33, 34, 35, 36, 37, 38, 39, 40, 41, 42, 43, 44, 45, 46, 47, 48, 49, 50, 51, 52, 53, 54, 55, 56, 57, 58, 59, 60, 61, 62, 63, 64, 65, 66, 67, 68, 69, 70, 71, 72, 73, 74, 75, 76, 77, 78, 79, 80, 81, 82, 83, 84, 85, 86, 87, 88, 89, 90, 91, 92, 93, 94, 95, 96, 97, 98, 99, 100]\n"
     ]
    }
   ],
   "source": [
    "#List Approach\n",
    "\n",
    "a = list(range(1,101))\n",
    "print(a)"
   ]
  },
  {
   "cell_type": "code",
   "execution_count": 5,
   "id": "4176946a",
   "metadata": {},
   "outputs": [
    {
     "name": "stdout",
     "output_type": "stream",
     "text": [
      "1 2 3 4 5 6 7 8 9 10 11 12 13 14 15 16 17 18 19 20 21 22 23 24 25 26 27 28 29 30 31 32 33 34 35 36 37 38 39 40 41 42 43 44 45 46 47 48 49 50 51 52 53 54 55 56 57 58 59 60 61 62 63 64 65 66 67 68 69 70 71 72 73 74 75 76 77 78 79 80 81 82 83 84 85 86 87 88 89 90 91 92 93 94 95 96 97 98 99 100 "
     ]
    }
   ],
   "source": [
    "#Loop Approach\n",
    "\n",
    "for i in range(1, 101):\n",
    "    print(i,end=\" \")"
   ]
  },
  {
   "cell_type": "markdown",
   "id": "c1c00736",
   "metadata": {},
   "source": [
    "### Print Odd Numbers from 1 to 100"
   ]
  },
  {
   "cell_type": "code",
   "execution_count": 6,
   "id": "d7d7911d",
   "metadata": {},
   "outputs": [
    {
     "name": "stdout",
     "output_type": "stream",
     "text": [
      "[1, 3, 5, 7, 9, 11, 13, 15, 17, 19, 21, 23, 25, 27, 29, 31, 33, 35, 37, 39, 41, 43, 45, 47, 49, 51, 53, 55, 57, 59, 61, 63, 65, 67, 69, 71, 73, 75, 77, 79, 81, 83, 85, 87, 89, 91, 93, 95, 97, 99]\n"
     ]
    }
   ],
   "source": [
    "# List Approach\n",
    "\n",
    "a = list(range(1,101,2))\n",
    "print(a)"
   ]
  },
  {
   "cell_type": "code",
   "execution_count": 7,
   "id": "ea32af4b",
   "metadata": {},
   "outputs": [
    {
     "name": "stdout",
     "output_type": "stream",
     "text": [
      "1 3 5 7 9 11 13 15 17 19 21 23 25 27 29 31 33 35 37 39 41 43 45 47 49 51 53 55 57 59 61 63 65 67 69 71 73 75 77 79 81 83 85 87 89 91 93 95 97 99 "
     ]
    }
   ],
   "source": [
    "#Loop Approach\n",
    "\n",
    "for i in range(1,101,2):\n",
    "    print(i,end=\" \")"
   ]
  },
  {
   "cell_type": "markdown",
   "id": "acb8a8db",
   "metadata": {},
   "source": [
    "### Print Even Numbers from 1 to 100"
   ]
  },
  {
   "cell_type": "code",
   "execution_count": 8,
   "id": "690c7774",
   "metadata": {},
   "outputs": [
    {
     "name": "stdout",
     "output_type": "stream",
     "text": [
      "[2, 4, 6, 8, 10, 12, 14, 16, 18, 20, 22, 24, 26, 28, 30, 32, 34, 36, 38, 40, 42, 44, 46, 48, 50, 52, 54, 56, 58, 60, 62, 64, 66, 68, 70, 72, 74, 76, 78, 80, 82, 84, 86, 88, 90, 92, 94, 96, 98, 100]\n"
     ]
    }
   ],
   "source": [
    "# List Approach\n",
    "\n",
    "a = list(range(2,101,2))\n",
    "print(a)"
   ]
  },
  {
   "cell_type": "code",
   "execution_count": 11,
   "id": "ccab65ca",
   "metadata": {},
   "outputs": [
    {
     "name": "stdout",
     "output_type": "stream",
     "text": [
      "2 4 6 8 10 12 14 16 18 20 22 24 26 28 30 32 34 36 38 40 42 44 46 48 50 52 54 56 58 60 62 64 66 68 70 72 74 76 78 80 82 84 86 88 90 92 94 96 98 100 "
     ]
    }
   ],
   "source": [
    "# List Approach \n",
    "\n",
    "for i in range(2,101,2):\n",
    "    print(i,end=\" \")"
   ]
  },
  {
   "cell_type": "markdown",
   "id": "3dcaedc0",
   "metadata": {},
   "source": [
    "## Format of Print Statement\n",
    "\n",
    "`print (*no of Objects, sep=' ', end='\\n')`\n",
    "\n",
    "Any type of data when given to print, `__str__` function is invoked to convert the entire output message to string"
   ]
  },
  {
   "cell_type": "markdown",
   "id": "53b47ab3",
   "metadata": {},
   "source": [
    "## break\n",
    "\n",
    "~break statement is used to come out of the loop when a condition is satisfied"
   ]
  },
  {
   "cell_type": "code",
   "execution_count": 17,
   "id": "23826523",
   "metadata": {},
   "outputs": [
    {
     "name": "stdout",
     "output_type": "stream",
     "text": [
      "0 1 2 3 4 5 6 7 8 9 10 11 12 13 14 15 16 17 18 19 20 21 22 23 24 25 26 27 28 29 30 31 32 33 34 35 36 37 38 39 40 41 42 43 44 45 46 47 48 49 "
     ]
    }
   ],
   "source": [
    "for i in range(0,100):\n",
    "    if i==50:\n",
    "        break\n",
    "    print(i,end=\" \")"
   ]
  },
  {
   "cell_type": "markdown",
   "id": "e59d443c",
   "metadata": {},
   "source": [
    "## continue\n",
    "\n",
    "~continue statement is used to skip the current iteration and move to the next iteration if condition is true"
   ]
  },
  {
   "cell_type": "code",
   "execution_count": 16,
   "id": "3c2bd485",
   "metadata": {},
   "outputs": [
    {
     "name": "stdout",
     "output_type": "stream",
     "text": [
      "0 1 2 3 4 5 6 7 8 9 10 11 12 13 14 15 16 17 18 19 20 21 22 23 24 25 26 27 28 29 30 31 32 33 34 35 36 37 38 39 40 41 42 43 44 45 46 47 48 49 51 52 53 54 55 56 57 58 59 60 61 62 63 64 65 66 67 68 69 70 71 72 73 74 75 76 77 78 79 80 81 82 83 84 85 86 87 88 89 90 91 92 93 94 95 96 97 98 99 "
     ]
    }
   ],
   "source": [
    "for i in range(0,100):\n",
    "    if i==50:\n",
    "        continue\n",
    "    print(i,end=\" \")"
   ]
  },
  {
   "cell_type": "markdown",
   "id": "822410df",
   "metadata": {},
   "source": [
    "## pass\n",
    "\n",
    "~pass statement is used to write empty body in code blocks, it is like writing NULL statement"
   ]
  },
  {
   "cell_type": "code",
   "execution_count": 19,
   "id": "25b001c0",
   "metadata": {},
   "outputs": [
    {
     "name": "stdout",
     "output_type": "stream",
     "text": [
      "0 1 2 3 4 5 6 7 8 9 10 11 12 13 14 15 16 17 18 19 20 21 22 23 24 25 26 27 28 29 30 31 32 33 34 35 36 37 38 39 40 41 42 43 44 45 46 47 48 49 50 51 52 53 54 55 56 57 58 59 60 61 62 63 64 65 66 67 68 69 70 71 72 73 74 75 76 77 78 79 80 81 82 83 84 85 86 87 88 89 90 91 92 93 94 95 96 97 98 99 "
     ]
    }
   ],
   "source": [
    "for i in range(0,100):\n",
    "    if i==50:\n",
    "        pass\n",
    "    print(i, end=\" \")"
   ]
  },
  {
   "cell_type": "markdown",
   "id": "248c2b18",
   "metadata": {},
   "source": [
    "## Function\n",
    "\n",
    "`def function_name (arg1, arg2, .....):\n",
    "    pass   \n",
    "    return`  "
   ]
  },
  {
   "cell_type": "code",
   "execution_count": 22,
   "id": "e5d4c77f",
   "metadata": {},
   "outputs": [
    {
     "name": "stdout",
     "output_type": "stream",
     "text": [
      "Hey Function\n"
     ]
    }
   ],
   "source": [
    "def function1():\n",
    "    print(\"Hey Function\")\n",
    "function1()"
   ]
  },
  {
   "cell_type": "code",
   "execution_count": 23,
   "id": "1ab3c9dd",
   "metadata": {},
   "outputs": [
    {
     "data": {
      "text/plain": [
       "30"
      ]
     },
     "execution_count": 23,
     "metadata": {},
     "output_type": "execute_result"
    }
   ],
   "source": [
    "def function2(a,b):\n",
    "    return a+b\n",
    "function2(10,20)"
   ]
  },
  {
   "cell_type": "markdown",
   "id": "b125dc48",
   "metadata": {},
   "source": [
    "## Categories of Function Based on Arguments\n",
    "\n",
    "### Positional Arguments"
   ]
  },
  {
   "cell_type": "code",
   "execution_count": 32,
   "id": "5db3e040",
   "metadata": {},
   "outputs": [],
   "source": [
    "def fun(a1,a2,a3,a4):\n",
    "    print(\"num1 {} num2 {} num3 {} num4 {}\".format(a1,a2,a3,a4))"
   ]
  },
  {
   "cell_type": "code",
   "execution_count": 34,
   "id": "77119e8d",
   "metadata": {},
   "outputs": [
    {
     "name": "stdout",
     "output_type": "stream",
     "text": [
      "num1 1 num2 2 num3 3 num4 4\n"
     ]
    }
   ],
   "source": [
    "fun(1,2,3,4)"
   ]
  },
  {
   "cell_type": "code",
   "execution_count": 35,
   "id": "d0a8e692",
   "metadata": {},
   "outputs": [
    {
     "ename": "TypeError",
     "evalue": "fun() missing 1 required positional argument: 'a4'",
     "output_type": "error",
     "traceback": [
      "\u001b[1;31m---------------------------------------------------------------------------\u001b[0m",
      "\u001b[1;31mTypeError\u001b[0m                                 Traceback (most recent call last)",
      "\u001b[1;32m<ipython-input-35-f23951bf6ffa>\u001b[0m in \u001b[0;36m<module>\u001b[1;34m\u001b[0m\n\u001b[1;32m----> 1\u001b[1;33m \u001b[0mfun\u001b[0m\u001b[1;33m(\u001b[0m\u001b[1;36m1\u001b[0m\u001b[1;33m,\u001b[0m\u001b[1;36m2\u001b[0m\u001b[1;33m,\u001b[0m\u001b[1;36m3\u001b[0m\u001b[1;33m)\u001b[0m\u001b[1;33m\u001b[0m\u001b[1;33m\u001b[0m\u001b[0m\n\u001b[0m",
      "\u001b[1;31mTypeError\u001b[0m: fun() missing 1 required positional argument: 'a4'"
     ]
    }
   ],
   "source": [
    "fun(1,2,3)"
   ]
  },
  {
   "cell_type": "code",
   "execution_count": 36,
   "id": "18545cd0",
   "metadata": {},
   "outputs": [
    {
     "ename": "TypeError",
     "evalue": "fun() takes 4 positional arguments but 5 were given",
     "output_type": "error",
     "traceback": [
      "\u001b[1;31m---------------------------------------------------------------------------\u001b[0m",
      "\u001b[1;31mTypeError\u001b[0m                                 Traceback (most recent call last)",
      "\u001b[1;32m<ipython-input-36-35d4fa7ffe6e>\u001b[0m in \u001b[0;36m<module>\u001b[1;34m\u001b[0m\n\u001b[1;32m----> 1\u001b[1;33m \u001b[0mfun\u001b[0m\u001b[1;33m(\u001b[0m\u001b[1;36m1\u001b[0m\u001b[1;33m,\u001b[0m\u001b[1;36m2\u001b[0m\u001b[1;33m,\u001b[0m\u001b[1;36m3\u001b[0m\u001b[1;33m,\u001b[0m\u001b[1;36m4\u001b[0m\u001b[1;33m,\u001b[0m\u001b[1;36m5\u001b[0m\u001b[1;33m)\u001b[0m\u001b[1;33m\u001b[0m\u001b[1;33m\u001b[0m\u001b[0m\n\u001b[0m",
      "\u001b[1;31mTypeError\u001b[0m: fun() takes 4 positional arguments but 5 were given"
     ]
    }
   ],
   "source": [
    "fun(1,2,3,4,5)"
   ]
  },
  {
   "cell_type": "markdown",
   "id": "4c14d025",
   "metadata": {},
   "source": [
    "### Keyword Arguments\n",
    "\n",
    "You can pass formal parameter by name"
   ]
  },
  {
   "cell_type": "code",
   "execution_count": 42,
   "id": "082e4aa8",
   "metadata": {},
   "outputs": [],
   "source": [
    "def fun1 (num1,num2,num3,num4):\n",
    "    print (num1,\" \",num2,\" \",num3,\" \",num4)"
   ]
  },
  {
   "cell_type": "code",
   "execution_count": 44,
   "id": "5d33511e",
   "metadata": {},
   "outputs": [
    {
     "name": "stdout",
     "output_type": "stream",
     "text": [
      "5   32   32   12\n"
     ]
    }
   ],
   "source": [
    "fun1(num2=32,num1=5,num4=12,num3=32)"
   ]
  },
  {
   "cell_type": "markdown",
   "id": "b6fa9f74",
   "metadata": {},
   "source": [
    "### Default Arguments\n",
    "You can pass some value in the parameter declaration itself, if new value is passed, the new value is taken else, the pre-existing value is taken"
   ]
  },
  {
   "cell_type": "code",
   "execution_count": 45,
   "id": "b4db3ed6",
   "metadata": {},
   "outputs": [],
   "source": [
    "def fun3(name,rollno,branch,collegename=\"GIETU\"):\n",
    "    print(name,rollno,branch,collegename)\n",
    "    "
   ]
  },
  {
   "cell_type": "code",
   "execution_count": 47,
   "id": "59ba5f5d",
   "metadata": {},
   "outputs": [
    {
     "name": "stdout",
     "output_type": "stream",
     "text": [
      "Ananya 20CSE063 CSE GIETU\n"
     ]
    }
   ],
   "source": [
    "fun3(\"Ananya\",\"20CSE063\",\"CSE\")"
   ]
  },
  {
   "cell_type": "code",
   "execution_count": 52,
   "id": "71ac3eca",
   "metadata": {},
   "outputs": [
    {
     "name": "stdout",
     "output_type": "stream",
     "text": [
      "1 2 3 4 5\n",
      "[1, 2, 3, 4, 5]\n"
     ]
    },
    {
     "data": {
      "text/plain": [
       "[2, 4, 1, 3, 5]"
      ]
     },
     "execution_count": 52,
     "metadata": {},
     "output_type": "execute_result"
    }
   ],
   "source": [
    "l = list(map(int,input().split()))\n",
    "print(l)\n",
    "l1 = [x for x in l if x%2==0]\n",
    "l2 = [x1 for x1 in l if x1 not in l1]\n",
    "l1+l2"
   ]
  },
  {
   "cell_type": "markdown",
   "id": "bd2a757f",
   "metadata": {},
   "source": [
    "### Variable Arguments"
   ]
  },
  {
   "cell_type": "code",
   "execution_count": 53,
   "id": "e3f00d44",
   "metadata": {},
   "outputs": [],
   "source": [
    "def add(*var):\n",
    "    sum1=0\n",
    "    for i in var:\n",
    "        sum1+=i\n",
    "    return sum1"
   ]
  },
  {
   "cell_type": "code",
   "execution_count": 55,
   "id": "ae5f14c0",
   "metadata": {},
   "outputs": [
    {
     "data": {
      "text/plain": [
       "100"
      ]
     },
     "execution_count": 55,
     "metadata": {},
     "output_type": "execute_result"
    }
   ],
   "source": [
    "add(10,20,30,40)"
   ]
  },
  {
   "cell_type": "code",
   "execution_count": 71,
   "id": "47711bd7",
   "metadata": {},
   "outputs": [],
   "source": [
    "def threeproduct(l):\n",
    "    idx=-1\n",
    "    if 7 in l:\n",
    "        idx = l.index(7)\n",
    "    pro = l[idx+1:]\n",
    "    m =1\n",
    "    for ele in pro:\n",
    "        m=m*ele\n",
    "    if m==1:\n",
    "        return -1\n",
    "    return m"
   ]
  },
  {
   "cell_type": "code",
   "execution_count": 75,
   "id": "7c17e9b4",
   "metadata": {},
   "outputs": [
    {
     "data": {
      "text/plain": [
       "-1"
      ]
     },
     "execution_count": 75,
     "metadata": {},
     "output_type": "execute_result"
    }
   ],
   "source": [
    "threeproduct([1,5,7])"
   ]
  },
  {
   "cell_type": "code",
   "execution_count": 76,
   "id": "1f2b7815",
   "metadata": {},
   "outputs": [],
   "source": [
    "d = {'Euro':0.01417,'British Pound':0.0100,'Australian Dollar':0.02140,'Canadian Dollar':0.02027}\n",
    "def currencyconvertor(amt,curr):\n",
    "    try:\n",
    "        eqcr = amt*d[curr]\n",
    "        return eqcr\n",
    "    except:\n",
    "        return -1"
   ]
  },
  {
   "cell_type": "code",
   "execution_count": 78,
   "id": "3ce02c38",
   "metadata": {},
   "outputs": [
    {
     "data": {
      "text/plain": [
       "14.17"
      ]
     },
     "execution_count": 78,
     "metadata": {},
     "output_type": "execute_result"
    }
   ],
   "source": [
    "currencyconvertor(1000,'Euro')"
   ]
  },
  {
   "cell_type": "code",
   "execution_count": 91,
   "id": "3187b38e",
   "metadata": {},
   "outputs": [],
   "source": [
    "def ticket(na,nc):\n",
    "    d={'Adult':37550,'Child':(1/3)*37550}\n",
    "    tp = (na*d['Adult']+nc*d['Child'])\n",
    "    tx = tp*0.07\n",
    "    tp = tp+tx\n",
    "    disc = tp*0.1\n",
    "    tp = tp-disc\n",
    "    return tp"
   ]
  },
  {
   "cell_type": "code",
   "execution_count": 92,
   "id": "53cb6944",
   "metadata": {},
   "outputs": [
    {
     "data": {
      "text/plain": [
       "204910.35"
      ]
     },
     "execution_count": 92,
     "metadata": {},
     "output_type": "execute_result"
    }
   ],
   "source": [
    "ticket(5,2)"
   ]
  },
  {
   "cell_type": "code",
   "execution_count": 98,
   "id": "3b84d719",
   "metadata": {},
   "outputs": [],
   "source": [
    "def coins(five,one,amt):\n",
    "    fc = amt//5\n",
    "    fo = amt%5\n",
    "    return (fo,fc)"
   ]
  },
  {
   "cell_type": "code",
   "execution_count": 99,
   "id": "ebdc992f",
   "metadata": {},
   "outputs": [
    {
     "data": {
      "text/plain": [
       "(1, 4)"
      ]
     },
     "execution_count": 99,
     "metadata": {},
     "output_type": "execute_result"
    }
   ],
   "source": [
    "coins(2,4,21)"
   ]
  }
 ],
 "metadata": {
  "kernelspec": {
   "display_name": "Python 3",
   "language": "python",
   "name": "python3"
  },
  "language_info": {
   "codemirror_mode": {
    "name": "ipython",
    "version": 3
   },
   "file_extension": ".py",
   "mimetype": "text/x-python",
   "name": "python",
   "nbconvert_exporter": "python",
   "pygments_lexer": "ipython3",
   "version": "3.8.8"
  }
 },
 "nbformat": 4,
 "nbformat_minor": 5
}
